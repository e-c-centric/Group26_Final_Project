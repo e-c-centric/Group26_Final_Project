{
  "cells": [
    {
      "cell_type": "markdown",
      "metadata": {
        "id": "view-in-github",
        "colab_type": "text"
      },
      "source": [
        "<a href=\"https://colab.research.google.com/github/e-c-centric/Group26_Final_Project/blob/main/Group26_Final_Project.ipynb\" target=\"_parent\"><img src=\"https://colab.research.google.com/assets/colab-badge.svg\" alt=\"Open In Colab\"/></a>"
      ]
    },
    {
      "cell_type": "code",
      "execution_count": 1,
      "metadata": {
        "colab": {
          "base_uri": "https://localhost:8080/"
        },
        "id": "572xXNzNoZrK",
        "outputId": "909711bc-1cd9-482f-e04b-a3462178dee5"
      },
      "outputs": [
        {
          "output_type": "stream",
          "name": "stdout",
          "text": [
            "Collecting textstat\n",
            "  Downloading textstat-0.7.3-py3-none-any.whl (105 kB)\n",
            "\u001b[2K     \u001b[90m━━━━━━━━━━━━━━━━━━━━━━━━━━━━━━━━━━━━━━━━\u001b[0m \u001b[32m105.1/105.1 kB\u001b[0m \u001b[31m997.1 kB/s\u001b[0m eta \u001b[36m0:00:00\u001b[0m\n",
            "\u001b[?25hCollecting langid\n",
            "  Downloading langid-1.1.6.tar.gz (1.9 MB)\n",
            "\u001b[2K     \u001b[90m━━━━━━━━━━━━━━━━━━━━━━━━━━━━━━━━━━━━━━━━\u001b[0m \u001b[32m1.9/1.9 MB\u001b[0m \u001b[31m11.5 MB/s\u001b[0m eta \u001b[36m0:00:00\u001b[0m\n",
            "\u001b[?25h  Preparing metadata (setup.py) ... \u001b[?25l\u001b[?25hdone\n",
            "Collecting pyphen (from textstat)\n",
            "  Downloading pyphen-0.14.0-py3-none-any.whl (2.0 MB)\n",
            "\u001b[2K     \u001b[90m━━━━━━━━━━━━━━━━━━━━━━━━━━━━━━━━━━━━━━━━\u001b[0m \u001b[32m2.0/2.0 MB\u001b[0m \u001b[31m60.7 MB/s\u001b[0m eta \u001b[36m0:00:00\u001b[0m\n",
            "\u001b[?25hRequirement already satisfied: numpy in /usr/local/lib/python3.10/dist-packages (from langid) (1.23.5)\n",
            "Building wheels for collected packages: langid\n",
            "  Building wheel for langid (setup.py) ... \u001b[?25l\u001b[?25hdone\n",
            "  Created wheel for langid: filename=langid-1.1.6-py3-none-any.whl size=1941172 sha256=d726006015a8bb984a037fe1184de4fc47241d1b06f8477d6780ede54245ab15\n",
            "  Stored in directory: /root/.cache/pip/wheels/23/c8/c6/eed80894918490a175677414d40bd7c851413bbe03d4856c3c\n",
            "Successfully built langid\n",
            "Installing collected packages: pyphen, langid, textstat\n",
            "Successfully installed langid-1.1.6 pyphen-0.14.0 textstat-0.7.3\n"
          ]
        }
      ],
      "source": [
        "!pip install textstat langid"
      ]
    },
    {
      "cell_type": "code",
      "execution_count": 2,
      "metadata": {
        "id": "4Y2sVNmmlI9J"
      },
      "outputs": [],
      "source": [
        "import pandas as pd\n",
        "import numpy as np\n",
        "from sklearn.feature_extraction.text import TfidfVectorizer\n",
        "from sklearn.cluster import KMeans\n",
        "from google.colab import drive\n",
        "from sklearn.preprocessing import StandardScaler, LabelEncoder, OneHotEncoder, MinMaxScaler\n",
        "import random\n",
        "import textstat\n",
        "import langid\n",
        "from sklearn.model_selection import train_test_split\n",
        "from tensorflow.keras.preprocessing.text import Tokenizer\n",
        "from tensorflow.keras.preprocessing.sequence import pad_sequences\n",
        "from tensorflow.keras.models import Sequential\n",
        "from tensorflow.keras.layers import Embedding, LSTM, Dense\n",
        "from sklearn.preprocessing import LabelEncoder\n",
        "from sklearn.metrics import accuracy_score, classification_report\n",
        "from gensim.models import Word2Vec\n",
        "from sklearn.cluster import KMeans\n",
        "from sklearn.metrics import silhouette_score\n",
        "import matplotlib.pyplot as plt"
      ]
    },
    {
      "cell_type": "code",
      "execution_count": 3,
      "metadata": {
        "colab": {
          "base_uri": "https://localhost:8080/"
        },
        "id": "AS21H-BHjZ61",
        "outputId": "2b3de3ec-78d6-441c-cf71-8e434afd71f6"
      },
      "outputs": [
        {
          "output_type": "stream",
          "name": "stdout",
          "text": [
            "Mounted at /content/drive\n"
          ]
        }
      ],
      "source": [
        "drive.mount('/content/drive')"
      ]
    },
    {
      "cell_type": "markdown",
      "source": [
        "**Data Collection**"
      ],
      "metadata": {
        "id": "GxkI8571I0Ci"
      }
    },
    {
      "cell_type": "code",
      "execution_count": 4,
      "metadata": {
        "id": "YtNdubmjIIBu"
      },
      "outputs": [],
      "source": [
        "'''This file was sourced from the Oxford DIctionary. We stripped all the word definitions from the list'''\n",
        "\n",
        "file_path = '/content/drive/MyDrive/Colab Notebooks/words.txt'\n",
        "\n",
        "with open(file_path, 'r') as file:\n",
        "    words = file.read().split()\n",
        "\n",
        "'''We preprocessed our list of words to remove all words of length less than 3. We also removed\n",
        "words that contain numbers'''\n",
        "\n",
        "refined_words = [word for word in words if word.isalpha() and len(word) >= 3]\n",
        "\n",
        "with open('/content/drive/MyDrive/Colab Notebooks/application_words.txt', 'w') as file:\n",
        "    file.write('\\n'.join(refined_words))\n",
        "\n",
        "random_sample = random.sample(refined_words, 1000)#creating a subset for training\n",
        "with open('/content/drive/MyDrive/Colab Notebooks/training_words.txt', 'w') as file:\n",
        "    file.write('\\n'.join(random_sample))"
      ]
    },
    {
      "cell_type": "code",
      "execution_count": 5,
      "metadata": {
        "id": "Os0U3ZGJmANr"
      },
      "outputs": [],
      "source": [
        "file_path = '/content/drive/MyDrive/Colab Notebooks/training_words.txt'\n",
        "training_df = pd.read_csv(file_path, sep= \" \", names=['word'])\n",
        "training_df = training_df.dropna()\n",
        "\n",
        "file_path = '/content/drive/MyDrive/Colab Notebooks/application_words.txt'\n",
        "application_df = pd.read_csv(file_path, sep= \" \", names=['word'])\n",
        "application_df = application_df.dropna()"
      ]
    },
    {
      "cell_type": "code",
      "execution_count": 6,
      "metadata": {
        "id": "yDgus7eDpfac"
      },
      "outputs": [],
      "source": [
        "from gensim.models import Word2Vec\n",
        "#import gensim.downloader as api\n",
        "#model_name = \"word2vec-google-news-300\"\n",
        "#word2vec_model = api.load(model_name)\n",
        "#training a Word2Vec word embedding model on our application df'''\n",
        "word2vec_model = Word2Vec(sentences=[application_df['word'].tolist()], vector_size=100, window=5, min_count=1, workers=4)\n",
        "def word_to_vec(word):\n",
        "    try:\n",
        "        return word2vec_model.wv[word]\n",
        "    except KeyError:\n",
        "        return None"
      ]
    },
    {
      "cell_type": "code",
      "execution_count": 7,
      "metadata": {
        "id": "5-LLUypym7IU",
        "colab": {
          "base_uri": "https://localhost:8080/"
        },
        "outputId": "f34c3a98-069b-4b36-9ae4-f8cfd7942f1e"
      },
      "outputs": [
        {
          "output_type": "execute_result",
          "data": {
            "text/plain": [
              "<bound method DataFrame.info of                 word\n",
              "0            Porella\n",
              "1           thrivers\n",
              "2              exing\n",
              "3    unflinchingness\n",
              "4      indominitable\n",
              "..               ...\n",
              "995          stodger\n",
              "996          outgush\n",
              "997        azocyclic\n",
              "998       gismondite\n",
              "999          Laspisa\n",
              "\n",
              "[1000 rows x 1 columns]>"
            ]
          },
          "metadata": {},
          "execution_count": 7
        }
      ],
      "source": [
        "training_df.info"
      ]
    },
    {
      "cell_type": "code",
      "execution_count": 8,
      "metadata": {
        "id": "bW11YIr8l49F",
        "colab": {
          "base_uri": "https://localhost:8080/"
        },
        "outputId": "576f1b5e-7987-4d1e-a750-c4bc97295150"
      },
      "outputs": [
        {
          "output_type": "execute_result",
          "data": {
            "text/plain": [
              "<bound method DataFrame.info of                 word\n",
              "0                AAA\n",
              "1               AAAA\n",
              "2             AAAAAA\n",
              "3               AAAL\n",
              "4               AAAS\n",
              "...              ...\n",
              "415696  zwitterionic\n",
              "415697        Zwolle\n",
              "415698      Zworykin\n",
              "415699           zZt\n",
              "415700           ZZZ\n",
              "\n",
              "[415700 rows x 1 columns]>"
            ]
          },
          "metadata": {},
          "execution_count": 8
        }
      ],
      "source": [
        "application_df.info"
      ]
    },
    {
      "cell_type": "markdown",
      "source": [
        "**Feature Extraction and Augmentation**"
      ],
      "metadata": {
        "id": "E1pCVe23JIJn"
      }
    },
    {
      "cell_type": "code",
      "execution_count": 9,
      "metadata": {
        "id": "QTacfP-EJCew"
      },
      "outputs": [],
      "source": [
        "def extract_features(word):\n",
        "    try:\n",
        "        syllables = textstat.syllable_count(word)\n",
        "        ari = textstat.automated_readability_index(word)\n",
        "        length = len(word)\n",
        "        #language, _ = langid.classify(word)\n",
        "\n",
        "        return {'syllables': syllables, 'ari': ari, 'length': length, 'language': None}\n",
        "    except Exception as e:\n",
        "        print(f\"Error extracting features for '{word}': {e}\")\n",
        "        return None\n",
        "\n",
        "\n",
        "feature_columns = ['ari','length']\n",
        "for column in feature_columns:\n",
        "    training_df[column] = training_df['word'].apply(lambda word: extract_features(word)[column] if extract_features(word) else None)\n",
        "\n",
        "# Drop rows with missing features\n",
        "training_df = training_df.dropna(subset=feature_columns)"
      ]
    },
    {
      "cell_type": "code",
      "execution_count": 10,
      "metadata": {
        "id": "-04daJZLoJnb",
        "colab": {
          "base_uri": "https://localhost:8080/",
          "height": 206
        },
        "outputId": "ebb0c4f4-8784-421e-b0f2-a68791c8cf82"
      },
      "outputs": [
        {
          "output_type": "execute_result",
          "data": {
            "text/plain": [
              "           word   ari  length\n",
              "995     stodger  12.0       7\n",
              "996     outgush  12.0       7\n",
              "997   azocyclic  21.5       9\n",
              "998  gismondite  26.2      10\n",
              "999     Laspisa  12.0       7"
            ],
            "text/html": [
              "\n",
              "  <div id=\"df-d426c5fb-c74c-4dc5-bd57-0747b7b92395\" class=\"colab-df-container\">\n",
              "    <div>\n",
              "<style scoped>\n",
              "    .dataframe tbody tr th:only-of-type {\n",
              "        vertical-align: middle;\n",
              "    }\n",
              "\n",
              "    .dataframe tbody tr th {\n",
              "        vertical-align: top;\n",
              "    }\n",
              "\n",
              "    .dataframe thead th {\n",
              "        text-align: right;\n",
              "    }\n",
              "</style>\n",
              "<table border=\"1\" class=\"dataframe\">\n",
              "  <thead>\n",
              "    <tr style=\"text-align: right;\">\n",
              "      <th></th>\n",
              "      <th>word</th>\n",
              "      <th>ari</th>\n",
              "      <th>length</th>\n",
              "    </tr>\n",
              "  </thead>\n",
              "  <tbody>\n",
              "    <tr>\n",
              "      <th>995</th>\n",
              "      <td>stodger</td>\n",
              "      <td>12.0</td>\n",
              "      <td>7</td>\n",
              "    </tr>\n",
              "    <tr>\n",
              "      <th>996</th>\n",
              "      <td>outgush</td>\n",
              "      <td>12.0</td>\n",
              "      <td>7</td>\n",
              "    </tr>\n",
              "    <tr>\n",
              "      <th>997</th>\n",
              "      <td>azocyclic</td>\n",
              "      <td>21.5</td>\n",
              "      <td>9</td>\n",
              "    </tr>\n",
              "    <tr>\n",
              "      <th>998</th>\n",
              "      <td>gismondite</td>\n",
              "      <td>26.2</td>\n",
              "      <td>10</td>\n",
              "    </tr>\n",
              "    <tr>\n",
              "      <th>999</th>\n",
              "      <td>Laspisa</td>\n",
              "      <td>12.0</td>\n",
              "      <td>7</td>\n",
              "    </tr>\n",
              "  </tbody>\n",
              "</table>\n",
              "</div>\n",
              "    <div class=\"colab-df-buttons\">\n",
              "\n",
              "  <div class=\"colab-df-container\">\n",
              "    <button class=\"colab-df-convert\" onclick=\"convertToInteractive('df-d426c5fb-c74c-4dc5-bd57-0747b7b92395')\"\n",
              "            title=\"Convert this dataframe to an interactive table.\"\n",
              "            style=\"display:none;\">\n",
              "\n",
              "  <svg xmlns=\"http://www.w3.org/2000/svg\" height=\"24px\" viewBox=\"0 -960 960 960\">\n",
              "    <path d=\"M120-120v-720h720v720H120Zm60-500h600v-160H180v160Zm220 220h160v-160H400v160Zm0 220h160v-160H400v160ZM180-400h160v-160H180v160Zm440 0h160v-160H620v160ZM180-180h160v-160H180v160Zm440 0h160v-160H620v160Z\"/>\n",
              "  </svg>\n",
              "    </button>\n",
              "\n",
              "  <style>\n",
              "    .colab-df-container {\n",
              "      display:flex;\n",
              "      gap: 12px;\n",
              "    }\n",
              "\n",
              "    .colab-df-convert {\n",
              "      background-color: #E8F0FE;\n",
              "      border: none;\n",
              "      border-radius: 50%;\n",
              "      cursor: pointer;\n",
              "      display: none;\n",
              "      fill: #1967D2;\n",
              "      height: 32px;\n",
              "      padding: 0 0 0 0;\n",
              "      width: 32px;\n",
              "    }\n",
              "\n",
              "    .colab-df-convert:hover {\n",
              "      background-color: #E2EBFA;\n",
              "      box-shadow: 0px 1px 2px rgba(60, 64, 67, 0.3), 0px 1px 3px 1px rgba(60, 64, 67, 0.15);\n",
              "      fill: #174EA6;\n",
              "    }\n",
              "\n",
              "    .colab-df-buttons div {\n",
              "      margin-bottom: 4px;\n",
              "    }\n",
              "\n",
              "    [theme=dark] .colab-df-convert {\n",
              "      background-color: #3B4455;\n",
              "      fill: #D2E3FC;\n",
              "    }\n",
              "\n",
              "    [theme=dark] .colab-df-convert:hover {\n",
              "      background-color: #434B5C;\n",
              "      box-shadow: 0px 1px 3px 1px rgba(0, 0, 0, 0.15);\n",
              "      filter: drop-shadow(0px 1px 2px rgba(0, 0, 0, 0.3));\n",
              "      fill: #FFFFFF;\n",
              "    }\n",
              "  </style>\n",
              "\n",
              "    <script>\n",
              "      const buttonEl =\n",
              "        document.querySelector('#df-d426c5fb-c74c-4dc5-bd57-0747b7b92395 button.colab-df-convert');\n",
              "      buttonEl.style.display =\n",
              "        google.colab.kernel.accessAllowed ? 'block' : 'none';\n",
              "\n",
              "      async function convertToInteractive(key) {\n",
              "        const element = document.querySelector('#df-d426c5fb-c74c-4dc5-bd57-0747b7b92395');\n",
              "        const dataTable =\n",
              "          await google.colab.kernel.invokeFunction('convertToInteractive',\n",
              "                                                    [key], {});\n",
              "        if (!dataTable) return;\n",
              "\n",
              "        const docLinkHtml = 'Like what you see? Visit the ' +\n",
              "          '<a target=\"_blank\" href=https://colab.research.google.com/notebooks/data_table.ipynb>data table notebook</a>'\n",
              "          + ' to learn more about interactive tables.';\n",
              "        element.innerHTML = '';\n",
              "        dataTable['output_type'] = 'display_data';\n",
              "        await google.colab.output.renderOutput(dataTable, element);\n",
              "        const docLink = document.createElement('div');\n",
              "        docLink.innerHTML = docLinkHtml;\n",
              "        element.appendChild(docLink);\n",
              "      }\n",
              "    </script>\n",
              "  </div>\n",
              "\n",
              "\n",
              "<div id=\"df-c3befba0-cec0-425a-9891-dfc63e0841a5\">\n",
              "  <button class=\"colab-df-quickchart\" onclick=\"quickchart('df-c3befba0-cec0-425a-9891-dfc63e0841a5')\"\n",
              "            title=\"Suggest charts\"\n",
              "            style=\"display:none;\">\n",
              "\n",
              "<svg xmlns=\"http://www.w3.org/2000/svg\" height=\"24px\"viewBox=\"0 0 24 24\"\n",
              "     width=\"24px\">\n",
              "    <g>\n",
              "        <path d=\"M19 3H5c-1.1 0-2 .9-2 2v14c0 1.1.9 2 2 2h14c1.1 0 2-.9 2-2V5c0-1.1-.9-2-2-2zM9 17H7v-7h2v7zm4 0h-2V7h2v10zm4 0h-2v-4h2v4z\"/>\n",
              "    </g>\n",
              "</svg>\n",
              "  </button>\n",
              "\n",
              "<style>\n",
              "  .colab-df-quickchart {\n",
              "      --bg-color: #E8F0FE;\n",
              "      --fill-color: #1967D2;\n",
              "      --hover-bg-color: #E2EBFA;\n",
              "      --hover-fill-color: #174EA6;\n",
              "      --disabled-fill-color: #AAA;\n",
              "      --disabled-bg-color: #DDD;\n",
              "  }\n",
              "\n",
              "  [theme=dark] .colab-df-quickchart {\n",
              "      --bg-color: #3B4455;\n",
              "      --fill-color: #D2E3FC;\n",
              "      --hover-bg-color: #434B5C;\n",
              "      --hover-fill-color: #FFFFFF;\n",
              "      --disabled-bg-color: #3B4455;\n",
              "      --disabled-fill-color: #666;\n",
              "  }\n",
              "\n",
              "  .colab-df-quickchart {\n",
              "    background-color: var(--bg-color);\n",
              "    border: none;\n",
              "    border-radius: 50%;\n",
              "    cursor: pointer;\n",
              "    display: none;\n",
              "    fill: var(--fill-color);\n",
              "    height: 32px;\n",
              "    padding: 0;\n",
              "    width: 32px;\n",
              "  }\n",
              "\n",
              "  .colab-df-quickchart:hover {\n",
              "    background-color: var(--hover-bg-color);\n",
              "    box-shadow: 0 1px 2px rgba(60, 64, 67, 0.3), 0 1px 3px 1px rgba(60, 64, 67, 0.15);\n",
              "    fill: var(--button-hover-fill-color);\n",
              "  }\n",
              "\n",
              "  .colab-df-quickchart-complete:disabled,\n",
              "  .colab-df-quickchart-complete:disabled:hover {\n",
              "    background-color: var(--disabled-bg-color);\n",
              "    fill: var(--disabled-fill-color);\n",
              "    box-shadow: none;\n",
              "  }\n",
              "\n",
              "  .colab-df-spinner {\n",
              "    border: 2px solid var(--fill-color);\n",
              "    border-color: transparent;\n",
              "    border-bottom-color: var(--fill-color);\n",
              "    animation:\n",
              "      spin 1s steps(1) infinite;\n",
              "  }\n",
              "\n",
              "  @keyframes spin {\n",
              "    0% {\n",
              "      border-color: transparent;\n",
              "      border-bottom-color: var(--fill-color);\n",
              "      border-left-color: var(--fill-color);\n",
              "    }\n",
              "    20% {\n",
              "      border-color: transparent;\n",
              "      border-left-color: var(--fill-color);\n",
              "      border-top-color: var(--fill-color);\n",
              "    }\n",
              "    30% {\n",
              "      border-color: transparent;\n",
              "      border-left-color: var(--fill-color);\n",
              "      border-top-color: var(--fill-color);\n",
              "      border-right-color: var(--fill-color);\n",
              "    }\n",
              "    40% {\n",
              "      border-color: transparent;\n",
              "      border-right-color: var(--fill-color);\n",
              "      border-top-color: var(--fill-color);\n",
              "    }\n",
              "    60% {\n",
              "      border-color: transparent;\n",
              "      border-right-color: var(--fill-color);\n",
              "    }\n",
              "    80% {\n",
              "      border-color: transparent;\n",
              "      border-right-color: var(--fill-color);\n",
              "      border-bottom-color: var(--fill-color);\n",
              "    }\n",
              "    90% {\n",
              "      border-color: transparent;\n",
              "      border-bottom-color: var(--fill-color);\n",
              "    }\n",
              "  }\n",
              "</style>\n",
              "\n",
              "  <script>\n",
              "    async function quickchart(key) {\n",
              "      const quickchartButtonEl =\n",
              "        document.querySelector('#' + key + ' button');\n",
              "      quickchartButtonEl.disabled = true;  // To prevent multiple clicks.\n",
              "      quickchartButtonEl.classList.add('colab-df-spinner');\n",
              "      try {\n",
              "        const charts = await google.colab.kernel.invokeFunction(\n",
              "            'suggestCharts', [key], {});\n",
              "      } catch (error) {\n",
              "        console.error('Error during call to suggestCharts:', error);\n",
              "      }\n",
              "      quickchartButtonEl.classList.remove('colab-df-spinner');\n",
              "      quickchartButtonEl.classList.add('colab-df-quickchart-complete');\n",
              "    }\n",
              "    (() => {\n",
              "      let quickchartButtonEl =\n",
              "        document.querySelector('#df-c3befba0-cec0-425a-9891-dfc63e0841a5 button');\n",
              "      quickchartButtonEl.style.display =\n",
              "        google.colab.kernel.accessAllowed ? 'block' : 'none';\n",
              "    })();\n",
              "  </script>\n",
              "</div>\n",
              "    </div>\n",
              "  </div>\n"
            ]
          },
          "metadata": {},
          "execution_count": 10
        }
      ],
      "source": [
        "training_df.tail()"
      ]
    },
    {
      "cell_type": "code",
      "execution_count": 11,
      "metadata": {
        "id": "kdJy-yB2roOa",
        "colab": {
          "base_uri": "https://localhost:8080/",
          "height": 36
        },
        "outputId": "e11ca828-ecca-471a-e3ce-a91f0a2deaf3"
      },
      "outputs": [
        {
          "output_type": "execute_result",
          "data": {
            "text/plain": [
              "\"unique_elements = training_df['language'].unique()\\n\\nprint(unique_elements)\""
            ],
            "application/vnd.google.colaboratory.intrinsic+json": {
              "type": "string"
            }
          },
          "metadata": {},
          "execution_count": 11
        }
      ],
      "source": [
        "'''unique_elements = training_df['language'].unique()\n",
        "\n",
        "print(unique_elements)'''"
      ]
    },
    {
      "cell_type": "code",
      "execution_count": 12,
      "metadata": {
        "id": "FZzJtk88RxC0",
        "colab": {
          "base_uri": "https://localhost:8080/",
          "height": 36
        },
        "outputId": "5c8ca28b-da1d-47cc-fc11-adad6c50b151"
      },
      "outputs": [
        {
          "output_type": "execute_result",
          "data": {
            "text/plain": [
              "\"label_encoder = LabelEncoder()\\ntraining_df['language'] = label_encoder.fit_transform(training_df['language'])\""
            ],
            "application/vnd.google.colaboratory.intrinsic+json": {
              "type": "string"
            }
          },
          "metadata": {},
          "execution_count": 12
        }
      ],
      "source": [
        "'''label_encoder = LabelEncoder()\n",
        "training_df['language'] = label_encoder.fit_transform(training_df['language'])'''"
      ]
    },
    {
      "cell_type": "code",
      "execution_count": 13,
      "metadata": {
        "id": "bVj7yHWa6Qm2"
      },
      "outputs": [],
      "source": [
        "training_df['word_vector'] = training_df['word'].apply(word_to_vec)\n",
        "\n",
        "training_df = training_df.dropna(subset=['word_vector'])"
      ]
    },
    {
      "cell_type": "markdown",
      "source": [
        "**Scaling**"
      ],
      "metadata": {
        "id": "xYxD79m0Jd7t"
      }
    },
    {
      "cell_type": "code",
      "execution_count": 14,
      "metadata": {
        "id": "rq0rG198Ua89"
      },
      "outputs": [],
      "source": [
        "scaler = StandardScaler()\n",
        "\n",
        "X_train_word_vector = np.stack(training_df['word_vector'].to_numpy())\n",
        "X_train_other_features = scaler.fit_transform(training_df[feature_columns])\n",
        "\n",
        "X_train = np.concatenate((X_train_word_vector, X_train_other_features), axis=1)"
      ]
    },
    {
      "cell_type": "code",
      "execution_count": 15,
      "metadata": {
        "id": "mArNEcFZXQba",
        "colab": {
          "base_uri": "https://localhost:8080/",
          "height": 423
        },
        "outputId": "3a03bb58-9cfb-4eb9-d382-d93afd4c7e1b"
      },
      "outputs": [
        {
          "output_type": "execute_result",
          "data": {
            "text/plain": [
              "                word   ari  length  \\\n",
              "0            Porella  12.0       7   \n",
              "1           thrivers  16.8       8   \n",
              "2              exing   2.6       5   \n",
              "3    unflinchingness  49.7      15   \n",
              "4      indominitable  40.3      13   \n",
              "..               ...   ...     ...   \n",
              "995          stodger  12.0       7   \n",
              "996          outgush  12.0       7   \n",
              "997        azocyclic  21.5       9   \n",
              "998       gismondite  26.2      10   \n",
              "999          Laspisa  12.0       7   \n",
              "\n",
              "                                           word_vector  \n",
              "0    [-0.0069386913, 0.0011353147, -0.009583937, -0...  \n",
              "1    [0.002854986, 0.009943634, -0.007242663, 0.000...  \n",
              "2    [0.0015490305, -0.000110555884, 0.006903529, 0...  \n",
              "3    [0.005862644, -0.0032035327, 0.0073452713, -0....  \n",
              "4    [0.0018190086, -0.004042928, 0.009658239, 0.00...  \n",
              "..                                                 ...  \n",
              "995  [-0.00061559794, -0.0030927574, -0.0064616264,...  \n",
              "996  [-0.0061649573, 0.0021129549, 0.0020104456, 0....  \n",
              "997  [0.0049388455, -0.0058035515, 0.00028217674, -...  \n",
              "998  [-0.0043173158, 0.0007054496, -0.0011967111, -...  \n",
              "999  [-0.0009223616, -0.0008088672, -0.00656896, -0...  \n",
              "\n",
              "[1000 rows x 4 columns]"
            ],
            "text/html": [
              "\n",
              "  <div id=\"df-d08c2dc7-12c1-4349-8818-2c54b05d9b84\" class=\"colab-df-container\">\n",
              "    <div>\n",
              "<style scoped>\n",
              "    .dataframe tbody tr th:only-of-type {\n",
              "        vertical-align: middle;\n",
              "    }\n",
              "\n",
              "    .dataframe tbody tr th {\n",
              "        vertical-align: top;\n",
              "    }\n",
              "\n",
              "    .dataframe thead th {\n",
              "        text-align: right;\n",
              "    }\n",
              "</style>\n",
              "<table border=\"1\" class=\"dataframe\">\n",
              "  <thead>\n",
              "    <tr style=\"text-align: right;\">\n",
              "      <th></th>\n",
              "      <th>word</th>\n",
              "      <th>ari</th>\n",
              "      <th>length</th>\n",
              "      <th>word_vector</th>\n",
              "    </tr>\n",
              "  </thead>\n",
              "  <tbody>\n",
              "    <tr>\n",
              "      <th>0</th>\n",
              "      <td>Porella</td>\n",
              "      <td>12.0</td>\n",
              "      <td>7</td>\n",
              "      <td>[-0.0069386913, 0.0011353147, -0.009583937, -0...</td>\n",
              "    </tr>\n",
              "    <tr>\n",
              "      <th>1</th>\n",
              "      <td>thrivers</td>\n",
              "      <td>16.8</td>\n",
              "      <td>8</td>\n",
              "      <td>[0.002854986, 0.009943634, -0.007242663, 0.000...</td>\n",
              "    </tr>\n",
              "    <tr>\n",
              "      <th>2</th>\n",
              "      <td>exing</td>\n",
              "      <td>2.6</td>\n",
              "      <td>5</td>\n",
              "      <td>[0.0015490305, -0.000110555884, 0.006903529, 0...</td>\n",
              "    </tr>\n",
              "    <tr>\n",
              "      <th>3</th>\n",
              "      <td>unflinchingness</td>\n",
              "      <td>49.7</td>\n",
              "      <td>15</td>\n",
              "      <td>[0.005862644, -0.0032035327, 0.0073452713, -0....</td>\n",
              "    </tr>\n",
              "    <tr>\n",
              "      <th>4</th>\n",
              "      <td>indominitable</td>\n",
              "      <td>40.3</td>\n",
              "      <td>13</td>\n",
              "      <td>[0.0018190086, -0.004042928, 0.009658239, 0.00...</td>\n",
              "    </tr>\n",
              "    <tr>\n",
              "      <th>...</th>\n",
              "      <td>...</td>\n",
              "      <td>...</td>\n",
              "      <td>...</td>\n",
              "      <td>...</td>\n",
              "    </tr>\n",
              "    <tr>\n",
              "      <th>995</th>\n",
              "      <td>stodger</td>\n",
              "      <td>12.0</td>\n",
              "      <td>7</td>\n",
              "      <td>[-0.00061559794, -0.0030927574, -0.0064616264,...</td>\n",
              "    </tr>\n",
              "    <tr>\n",
              "      <th>996</th>\n",
              "      <td>outgush</td>\n",
              "      <td>12.0</td>\n",
              "      <td>7</td>\n",
              "      <td>[-0.0061649573, 0.0021129549, 0.0020104456, 0....</td>\n",
              "    </tr>\n",
              "    <tr>\n",
              "      <th>997</th>\n",
              "      <td>azocyclic</td>\n",
              "      <td>21.5</td>\n",
              "      <td>9</td>\n",
              "      <td>[0.0049388455, -0.0058035515, 0.00028217674, -...</td>\n",
              "    </tr>\n",
              "    <tr>\n",
              "      <th>998</th>\n",
              "      <td>gismondite</td>\n",
              "      <td>26.2</td>\n",
              "      <td>10</td>\n",
              "      <td>[-0.0043173158, 0.0007054496, -0.0011967111, -...</td>\n",
              "    </tr>\n",
              "    <tr>\n",
              "      <th>999</th>\n",
              "      <td>Laspisa</td>\n",
              "      <td>12.0</td>\n",
              "      <td>7</td>\n",
              "      <td>[-0.0009223616, -0.0008088672, -0.00656896, -0...</td>\n",
              "    </tr>\n",
              "  </tbody>\n",
              "</table>\n",
              "<p>1000 rows × 4 columns</p>\n",
              "</div>\n",
              "    <div class=\"colab-df-buttons\">\n",
              "\n",
              "  <div class=\"colab-df-container\">\n",
              "    <button class=\"colab-df-convert\" onclick=\"convertToInteractive('df-d08c2dc7-12c1-4349-8818-2c54b05d9b84')\"\n",
              "            title=\"Convert this dataframe to an interactive table.\"\n",
              "            style=\"display:none;\">\n",
              "\n",
              "  <svg xmlns=\"http://www.w3.org/2000/svg\" height=\"24px\" viewBox=\"0 -960 960 960\">\n",
              "    <path d=\"M120-120v-720h720v720H120Zm60-500h600v-160H180v160Zm220 220h160v-160H400v160Zm0 220h160v-160H400v160ZM180-400h160v-160H180v160Zm440 0h160v-160H620v160ZM180-180h160v-160H180v160Zm440 0h160v-160H620v160Z\"/>\n",
              "  </svg>\n",
              "    </button>\n",
              "\n",
              "  <style>\n",
              "    .colab-df-container {\n",
              "      display:flex;\n",
              "      gap: 12px;\n",
              "    }\n",
              "\n",
              "    .colab-df-convert {\n",
              "      background-color: #E8F0FE;\n",
              "      border: none;\n",
              "      border-radius: 50%;\n",
              "      cursor: pointer;\n",
              "      display: none;\n",
              "      fill: #1967D2;\n",
              "      height: 32px;\n",
              "      padding: 0 0 0 0;\n",
              "      width: 32px;\n",
              "    }\n",
              "\n",
              "    .colab-df-convert:hover {\n",
              "      background-color: #E2EBFA;\n",
              "      box-shadow: 0px 1px 2px rgba(60, 64, 67, 0.3), 0px 1px 3px 1px rgba(60, 64, 67, 0.15);\n",
              "      fill: #174EA6;\n",
              "    }\n",
              "\n",
              "    .colab-df-buttons div {\n",
              "      margin-bottom: 4px;\n",
              "    }\n",
              "\n",
              "    [theme=dark] .colab-df-convert {\n",
              "      background-color: #3B4455;\n",
              "      fill: #D2E3FC;\n",
              "    }\n",
              "\n",
              "    [theme=dark] .colab-df-convert:hover {\n",
              "      background-color: #434B5C;\n",
              "      box-shadow: 0px 1px 3px 1px rgba(0, 0, 0, 0.15);\n",
              "      filter: drop-shadow(0px 1px 2px rgba(0, 0, 0, 0.3));\n",
              "      fill: #FFFFFF;\n",
              "    }\n",
              "  </style>\n",
              "\n",
              "    <script>\n",
              "      const buttonEl =\n",
              "        document.querySelector('#df-d08c2dc7-12c1-4349-8818-2c54b05d9b84 button.colab-df-convert');\n",
              "      buttonEl.style.display =\n",
              "        google.colab.kernel.accessAllowed ? 'block' : 'none';\n",
              "\n",
              "      async function convertToInteractive(key) {\n",
              "        const element = document.querySelector('#df-d08c2dc7-12c1-4349-8818-2c54b05d9b84');\n",
              "        const dataTable =\n",
              "          await google.colab.kernel.invokeFunction('convertToInteractive',\n",
              "                                                    [key], {});\n",
              "        if (!dataTable) return;\n",
              "\n",
              "        const docLinkHtml = 'Like what you see? Visit the ' +\n",
              "          '<a target=\"_blank\" href=https://colab.research.google.com/notebooks/data_table.ipynb>data table notebook</a>'\n",
              "          + ' to learn more about interactive tables.';\n",
              "        element.innerHTML = '';\n",
              "        dataTable['output_type'] = 'display_data';\n",
              "        await google.colab.output.renderOutput(dataTable, element);\n",
              "        const docLink = document.createElement('div');\n",
              "        docLink.innerHTML = docLinkHtml;\n",
              "        element.appendChild(docLink);\n",
              "      }\n",
              "    </script>\n",
              "  </div>\n",
              "\n",
              "\n",
              "<div id=\"df-fe7e2626-86e4-4bd5-8c3b-f83f98ed4247\">\n",
              "  <button class=\"colab-df-quickchart\" onclick=\"quickchart('df-fe7e2626-86e4-4bd5-8c3b-f83f98ed4247')\"\n",
              "            title=\"Suggest charts\"\n",
              "            style=\"display:none;\">\n",
              "\n",
              "<svg xmlns=\"http://www.w3.org/2000/svg\" height=\"24px\"viewBox=\"0 0 24 24\"\n",
              "     width=\"24px\">\n",
              "    <g>\n",
              "        <path d=\"M19 3H5c-1.1 0-2 .9-2 2v14c0 1.1.9 2 2 2h14c1.1 0 2-.9 2-2V5c0-1.1-.9-2-2-2zM9 17H7v-7h2v7zm4 0h-2V7h2v10zm4 0h-2v-4h2v4z\"/>\n",
              "    </g>\n",
              "</svg>\n",
              "  </button>\n",
              "\n",
              "<style>\n",
              "  .colab-df-quickchart {\n",
              "      --bg-color: #E8F0FE;\n",
              "      --fill-color: #1967D2;\n",
              "      --hover-bg-color: #E2EBFA;\n",
              "      --hover-fill-color: #174EA6;\n",
              "      --disabled-fill-color: #AAA;\n",
              "      --disabled-bg-color: #DDD;\n",
              "  }\n",
              "\n",
              "  [theme=dark] .colab-df-quickchart {\n",
              "      --bg-color: #3B4455;\n",
              "      --fill-color: #D2E3FC;\n",
              "      --hover-bg-color: #434B5C;\n",
              "      --hover-fill-color: #FFFFFF;\n",
              "      --disabled-bg-color: #3B4455;\n",
              "      --disabled-fill-color: #666;\n",
              "  }\n",
              "\n",
              "  .colab-df-quickchart {\n",
              "    background-color: var(--bg-color);\n",
              "    border: none;\n",
              "    border-radius: 50%;\n",
              "    cursor: pointer;\n",
              "    display: none;\n",
              "    fill: var(--fill-color);\n",
              "    height: 32px;\n",
              "    padding: 0;\n",
              "    width: 32px;\n",
              "  }\n",
              "\n",
              "  .colab-df-quickchart:hover {\n",
              "    background-color: var(--hover-bg-color);\n",
              "    box-shadow: 0 1px 2px rgba(60, 64, 67, 0.3), 0 1px 3px 1px rgba(60, 64, 67, 0.15);\n",
              "    fill: var(--button-hover-fill-color);\n",
              "  }\n",
              "\n",
              "  .colab-df-quickchart-complete:disabled,\n",
              "  .colab-df-quickchart-complete:disabled:hover {\n",
              "    background-color: var(--disabled-bg-color);\n",
              "    fill: var(--disabled-fill-color);\n",
              "    box-shadow: none;\n",
              "  }\n",
              "\n",
              "  .colab-df-spinner {\n",
              "    border: 2px solid var(--fill-color);\n",
              "    border-color: transparent;\n",
              "    border-bottom-color: var(--fill-color);\n",
              "    animation:\n",
              "      spin 1s steps(1) infinite;\n",
              "  }\n",
              "\n",
              "  @keyframes spin {\n",
              "    0% {\n",
              "      border-color: transparent;\n",
              "      border-bottom-color: var(--fill-color);\n",
              "      border-left-color: var(--fill-color);\n",
              "    }\n",
              "    20% {\n",
              "      border-color: transparent;\n",
              "      border-left-color: var(--fill-color);\n",
              "      border-top-color: var(--fill-color);\n",
              "    }\n",
              "    30% {\n",
              "      border-color: transparent;\n",
              "      border-left-color: var(--fill-color);\n",
              "      border-top-color: var(--fill-color);\n",
              "      border-right-color: var(--fill-color);\n",
              "    }\n",
              "    40% {\n",
              "      border-color: transparent;\n",
              "      border-right-color: var(--fill-color);\n",
              "      border-top-color: var(--fill-color);\n",
              "    }\n",
              "    60% {\n",
              "      border-color: transparent;\n",
              "      border-right-color: var(--fill-color);\n",
              "    }\n",
              "    80% {\n",
              "      border-color: transparent;\n",
              "      border-right-color: var(--fill-color);\n",
              "      border-bottom-color: var(--fill-color);\n",
              "    }\n",
              "    90% {\n",
              "      border-color: transparent;\n",
              "      border-bottom-color: var(--fill-color);\n",
              "    }\n",
              "  }\n",
              "</style>\n",
              "\n",
              "  <script>\n",
              "    async function quickchart(key) {\n",
              "      const quickchartButtonEl =\n",
              "        document.querySelector('#' + key + ' button');\n",
              "      quickchartButtonEl.disabled = true;  // To prevent multiple clicks.\n",
              "      quickchartButtonEl.classList.add('colab-df-spinner');\n",
              "      try {\n",
              "        const charts = await google.colab.kernel.invokeFunction(\n",
              "            'suggestCharts', [key], {});\n",
              "      } catch (error) {\n",
              "        console.error('Error during call to suggestCharts:', error);\n",
              "      }\n",
              "      quickchartButtonEl.classList.remove('colab-df-spinner');\n",
              "      quickchartButtonEl.classList.add('colab-df-quickchart-complete');\n",
              "    }\n",
              "    (() => {\n",
              "      let quickchartButtonEl =\n",
              "        document.querySelector('#df-fe7e2626-86e4-4bd5-8c3b-f83f98ed4247 button');\n",
              "      quickchartButtonEl.style.display =\n",
              "        google.colab.kernel.accessAllowed ? 'block' : 'none';\n",
              "    })();\n",
              "  </script>\n",
              "</div>\n",
              "    </div>\n",
              "  </div>\n"
            ]
          },
          "metadata": {},
          "execution_count": 15
        }
      ],
      "source": [
        "training_df"
      ]
    },
    {
      "cell_type": "code",
      "execution_count": 16,
      "metadata": {
        "id": "hueRlQcIe_Ex",
        "colab": {
          "base_uri": "https://localhost:8080/"
        },
        "outputId": "0468721e-86bb-418c-b703-8a7e448c05d3"
      },
      "outputs": [
        {
          "output_type": "execute_result",
          "data": {
            "text/plain": [
              "array([[-6.93869125e-03,  1.13531470e-03, -9.58393700e-03, ...,\n",
              "         1.39958260e-03, -7.46004511e-01, -7.43253294e-01],\n",
              "       [ 2.85498612e-03,  9.94363427e-03, -7.24266283e-03, ...,\n",
              "         1.48275378e-03, -3.89341863e-01, -3.92992552e-01],\n",
              "       [ 1.54903054e-03, -1.10555884e-04,  6.90352917e-03, ...,\n",
              "         2.46844301e-03, -1.44446886e+00, -1.44377478e+00],\n",
              "       ...,\n",
              "       [ 4.93884552e-03, -5.80355152e-03,  2.82176741e-04, ...,\n",
              "        -3.37499147e-03, -4.01096870e-02, -4.27318105e-02],\n",
              "       [-4.31731576e-03,  7.05449609e-04, -1.19671109e-03, ...,\n",
              "        -5.69242472e-03,  3.09122489e-01,  3.07528931e-01],\n",
              "       [-9.22361622e-04, -8.08867218e-04, -6.56895991e-03, ...,\n",
              "        -2.50147568e-04, -7.46004511e-01, -7.43253294e-01]])"
            ]
          },
          "metadata": {},
          "execution_count": 16
        }
      ],
      "source": [
        "X_train"
      ]
    },
    {
      "cell_type": "markdown",
      "source": [
        "**Using the Elbow Method to find the optimal number of clusters**"
      ],
      "metadata": {
        "id": "VuKmdvwuJhCC"
      }
    },
    {
      "cell_type": "code",
      "execution_count": 20,
      "metadata": {
        "id": "KOoNt4-ygX1P",
        "colab": {
          "base_uri": "https://localhost:8080/",
          "height": 927
        },
        "outputId": "4f1cdf0e-495e-4292-c3c1-333126099d56"
      },
      "outputs": [
        {
          "output_type": "display_data",
          "data": {
            "text/plain": [
              "<Figure size 640x480 with 1 Axes>"
            ],
            "image/png": "[encoded data removed]"
          },
          "metadata": {}
        },
        {
          "output_type": "display_data",
          "data": {
            "text/plain": [
              "<Figure size 640x480 with 1 Axes>"
            ],
            "image/png": "[encoded data removed]"
          },
          "metadata": {}
        }
      ],
      "source": [
        "wcss = []\n",
        "silhouette_scores = []\n",
        "\n",
        "for i in range(2, 25):\n",
        "    kmeans = KMeans(n_clusters=i, init='k-means++', max_iter=300, n_init=10, random_state=0)\n",
        "    kmeans.fit(X_train)\n",
        "    wcss.append(kmeans.inertia_)\n",
        "    silhouette_avg = silhouette_score(X_train, kmeans.labels_)\n",
        "    silhouette_scores.append(silhouette_avg)\n",
        "\n",
        "plt.plot(range(2, 25), wcss)\n",
        "plt.title('Elbow Method')\n",
        "plt.xlabel('Number of clusters')\n",
        "plt.ylabel('WCSS')\n",
        "plt.show()\n",
        "\n",
        "plt.plot(range(2, 25), silhouette_scores)\n",
        "plt.title('Silhouette Scores')\n",
        "plt.xlabel('Number of clusters')\n",
        "plt.ylabel('Silhouette Scores')\n",
        "plt.show()\n",
        "\n",
        "optimal_clusters = 16\n",
        "\n",
        "kmeans = KMeans(n_clusters=optimal_clusters, init='k-means++', max_iter=300, n_init=10, random_state=0)\n",
        "training_df['cluster'] = kmeans.fit_predict(X_train)"
      ]
    },
    {
      "cell_type": "code",
      "execution_count": 21,
      "metadata": {
        "id": "Cq_4laloi6Al",
        "colab": {
          "base_uri": "https://localhost:8080/",
          "height": 423
        },
        "outputId": "496186e9-3fe5-4380-fe59-bee45689fd84"
      },
      "outputs": [
        {
          "output_type": "execute_result",
          "data": {
            "text/plain": [
              "                word   ari  length  \\\n",
              "0            Porella  12.0       7   \n",
              "1           thrivers  16.8       8   \n",
              "2              exing   2.6       5   \n",
              "3    unflinchingness  49.7      15   \n",
              "4      indominitable  40.3      13   \n",
              "..               ...   ...     ...   \n",
              "995          stodger  12.0       7   \n",
              "996          outgush  12.0       7   \n",
              "997        azocyclic  21.5       9   \n",
              "998       gismondite  26.2      10   \n",
              "999          Laspisa  12.0       7   \n",
              "\n",
              "                                           word_vector  cluster  \n",
              "0    [-0.0069386913, 0.0011353147, -0.009583937, -0...        7  \n",
              "1    [0.002854986, 0.009943634, -0.007242663, 0.000...        3  \n",
              "2    [0.0015490305, -0.000110555884, 0.006903529, 0...        9  \n",
              "3    [0.005862644, -0.0032035327, 0.0073452713, -0....       13  \n",
              "4    [0.0018190086, -0.004042928, 0.009658239, 0.00...       10  \n",
              "..                                                 ...      ...  \n",
              "995  [-0.00061559794, -0.0030927574, -0.0064616264,...        7  \n",
              "996  [-0.0061649573, 0.0021129549, 0.0020104456, 0....        7  \n",
              "997  [0.0049388455, -0.0058035515, 0.00028217674, -...        4  \n",
              "998  [-0.0043173158, 0.0007054496, -0.0011967111, -...        0  \n",
              "999  [-0.0009223616, -0.0008088672, -0.00656896, -0...        7  \n",
              "\n",
              "[1000 rows x 5 columns]"
            ],
            "text/html": [
              "\n",
              "  <div id=\"df-d7c4260d-ec4c-473a-8304-99a0d940c7ba\" class=\"colab-df-container\">\n",
              "    <div>\n",
              "<style scoped>\n",
              "    .dataframe tbody tr th:only-of-type {\n",
              "        vertical-align: middle;\n",
              "    }\n",
              "\n",
              "    .dataframe tbody tr th {\n",
              "        vertical-align: top;\n",
              "    }\n",
              "\n",
              "    .dataframe thead th {\n",
              "        text-align: right;\n",
              "    }\n",
              "</style>\n",
              "<table border=\"1\" class=\"dataframe\">\n",
              "  <thead>\n",
              "    <tr style=\"text-align: right;\">\n",
              "      <th></th>\n",
              "      <th>word</th>\n",
              "      <th>ari</th>\n",
              "      <th>length</th>\n",
              "      <th>word_vector</th>\n",
              "      <th>cluster</th>\n",
              "    </tr>\n",
              "  </thead>\n",
              "  <tbody>\n",
              "    <tr>\n",
              "      <th>0</th>\n",
              "      <td>Porella</td>\n",
              "      <td>12.0</td>\n",
              "      <td>7</td>\n",
              "      <td>[-0.0069386913, 0.0011353147, -0.009583937, -0...</td>\n",
              "      <td>7</td>\n",
              "    </tr>\n",
              "    <tr>\n",
              "      <th>1</th>\n",
              "      <td>thrivers</td>\n",
              "      <td>16.8</td>\n",
              "      <td>8</td>\n",
              "      <td>[0.002854986, 0.009943634, -0.007242663, 0.000...</td>\n",
              "      <td>3</td>\n",
              "    </tr>\n",
              "    <tr>\n",
              "      <th>2</th>\n",
              "      <td>exing</td>\n",
              "      <td>2.6</td>\n",
              "      <td>5</td>\n",
              "      <td>[0.0015490305, -0.000110555884, 0.006903529, 0...</td>\n",
              "      <td>9</td>\n",
              "    </tr>\n",
              "    <tr>\n",
              "      <th>3</th>\n",
              "      <td>unflinchingness</td>\n",
              "      <td>49.7</td>\n",
              "      <td>15</td>\n",
              "      <td>[0.005862644, -0.0032035327, 0.0073452713, -0....</td>\n",
              "      <td>13</td>\n",
              "    </tr>\n",
              "    <tr>\n",
              "      <th>4</th>\n",
              "      <td>indominitable</td>\n",
              "      <td>40.3</td>\n",
              "      <td>13</td>\n",
              "      <td>[0.0018190086, -0.004042928, 0.009658239, 0.00...</td>\n",
              "      <td>10</td>\n",
              "    </tr>\n",
              "    <tr>\n",
              "      <th>...</th>\n",
              "      <td>...</td>\n",
              "      <td>...</td>\n",
              "      <td>...</td>\n",
              "      <td>...</td>\n",
              "      <td>...</td>\n",
              "    </tr>\n",
              "    <tr>\n",
              "      <th>995</th>\n",
              "      <td>stodger</td>\n",
              "      <td>12.0</td>\n",
              "      <td>7</td>\n",
              "      <td>[-0.00061559794, -0.0030927574, -0.0064616264,...</td>\n",
              "      <td>7</td>\n",
              "    </tr>\n",
              "    <tr>\n",
              "      <th>996</th>\n",
              "      <td>outgush</td>\n",
              "      <td>12.0</td>\n",
              "      <td>7</td>\n",
              "      <td>[-0.0061649573, 0.0021129549, 0.0020104456, 0....</td>\n",
              "      <td>7</td>\n",
              "    </tr>\n",
              "    <tr>\n",
              "      <th>997</th>\n",
              "      <td>azocyclic</td>\n",
              "      <td>21.5</td>\n",
              "      <td>9</td>\n",
              "      <td>[0.0049388455, -0.0058035515, 0.00028217674, -...</td>\n",
              "      <td>4</td>\n",
              "    </tr>\n",
              "    <tr>\n",
              "      <th>998</th>\n",
              "      <td>gismondite</td>\n",
              "      <td>26.2</td>\n",
              "      <td>10</td>\n",
              "      <td>[-0.0043173158, 0.0007054496, -0.0011967111, -...</td>\n",
              "      <td>0</td>\n",
              "    </tr>\n",
              "    <tr>\n",
              "      <th>999</th>\n",
              "      <td>Laspisa</td>\n",
              "      <td>12.0</td>\n",
              "      <td>7</td>\n",
              "      <td>[-0.0009223616, -0.0008088672, -0.00656896, -0...</td>\n",
              "      <td>7</td>\n",
              "    </tr>\n",
              "  </tbody>\n",
              "</table>\n",
              "<p>1000 rows × 5 columns</p>\n",
              "</div>\n",
              "    <div class=\"colab-df-buttons\">\n",
              "\n",
              "  <div class=\"colab-df-container\">\n",
              "    <button class=\"colab-df-convert\" onclick=\"convertToInteractive('df-d7c4260d-ec4c-473a-8304-99a0d940c7ba')\"\n",
              "            title=\"Convert this dataframe to an interactive table.\"\n",
              "            style=\"display:none;\">\n",
              "\n",
              "  <svg xmlns=\"http://www.w3.org/2000/svg\" height=\"24px\" viewBox=\"0 -960 960 960\">\n",
              "    <path d=\"M120-120v-720h720v720H120Zm60-500h600v-160H180v160Zm220 220h160v-160H400v160Zm0 220h160v-160H400v160ZM180-400h160v-160H180v160Zm440 0h160v-160H620v160ZM180-180h160v-160H180v160Zm440 0h160v-160H620v160Z\"/>\n",
              "  </svg>\n",
              "    </button>\n",
              "\n",
              "  <style>\n",
              "    .colab-df-container {\n",
              "      display:flex;\n",
              "      gap: 12px;\n",
              "    }\n",
              "\n",
              "    .colab-df-convert {\n",
              "      background-color: #E8F0FE;\n",
              "      border: none;\n",
              "      border-radius: 50%;\n",
              "      cursor: pointer;\n",
              "      display: none;\n",
              "      fill: #1967D2;\n",
              "      height: 32px;\n",
              "      padding: 0 0 0 0;\n",
              "      width: 32px;\n",
              "    }\n",
              "\n",
              "    .colab-df-convert:hover {\n",
              "      background-color: #E2EBFA;\n",
              "      box-shadow: 0px 1px 2px rgba(60, 64, 67, 0.3), 0px 1px 3px 1px rgba(60, 64, 67, 0.15);\n",
              "      fill: #174EA6;\n",
              "    }\n",
              "\n",
              "    .colab-df-buttons div {\n",
              "      margin-bottom: 4px;\n",
              "    }\n",
              "\n",
              "    [theme=dark] .colab-df-convert {\n",
              "      background-color: #3B4455;\n",
              "      fill: #D2E3FC;\n",
              "    }\n",
              "\n",
              "    [theme=dark] .colab-df-convert:hover {\n",
              "      background-color: #434B5C;\n",
              "      box-shadow: 0px 1px 3px 1px rgba(0, 0, 0, 0.15);\n",
              "      filter: drop-shadow(0px 1px 2px rgba(0, 0, 0, 0.3));\n",
              "      fill: #FFFFFF;\n",
              "    }\n",
              "  </style>\n",
              "\n",
              "    <script>\n",
              "      const buttonEl =\n",
              "        document.querySelector('#df-d7c4260d-ec4c-473a-8304-99a0d940c7ba button.colab-df-convert');\n",
              "      buttonEl.style.display =\n",
              "        google.colab.kernel.accessAllowed ? 'block' : 'none';\n",
              "\n",
              "      async function convertToInteractive(key) {\n",
              "        const element = document.querySelector('#df-d7c4260d-ec4c-473a-8304-99a0d940c7ba');\n",
              "        const dataTable =\n",
              "          await google.colab.kernel.invokeFunction('convertToInteractive',\n",
              "                                                    [key], {});\n",
              "        if (!dataTable) return;\n",
              "\n",
              "        const docLinkHtml = 'Like what you see? Visit the ' +\n",
              "          '<a target=\"_blank\" href=https://colab.research.google.com/notebooks/data_table.ipynb>data table notebook</a>'\n",
              "          + ' to learn more about interactive tables.';\n",
              "        element.innerHTML = '';\n",
              "        dataTable['output_type'] = 'display_data';\n",
              "        await google.colab.output.renderOutput(dataTable, element);\n",
              "        const docLink = document.createElement('div');\n",
              "        docLink.innerHTML = docLinkHtml;\n",
              "        element.appendChild(docLink);\n",
              "      }\n",
              "    </script>\n",
              "  </div>\n",
              "\n",
              "\n",
              "<div id=\"df-e85b7119-05cb-4d43-b326-e90acba79fcf\">\n",
              "  <button class=\"colab-df-quickchart\" onclick=\"quickchart('df-e85b7119-05cb-4d43-b326-e90acba79fcf')\"\n",
              "            title=\"Suggest charts\"\n",
              "            style=\"display:none;\">\n",
              "\n",
              "<svg xmlns=\"http://www.w3.org/2000/svg\" height=\"24px\"viewBox=\"0 0 24 24\"\n",
              "     width=\"24px\">\n",
              "    <g>\n",
              "        <path d=\"M19 3H5c-1.1 0-2 .9-2 2v14c0 1.1.9 2 2 2h14c1.1 0 2-.9 2-2V5c0-1.1-.9-2-2-2zM9 17H7v-7h2v7zm4 0h-2V7h2v10zm4 0h-2v-4h2v4z\"/>\n",
              "    </g>\n",
              "</svg>\n",
              "  </button>\n",
              "\n",
              "<style>\n",
              "  .colab-df-quickchart {\n",
              "      --bg-color: #E8F0FE;\n",
              "      --fill-color: #1967D2;\n",
              "      --hover-bg-color: #E2EBFA;\n",
              "      --hover-fill-color: #174EA6;\n",
              "      --disabled-fill-color: #AAA;\n",
              "      --disabled-bg-color: #DDD;\n",
              "  }\n",
              "\n",
              "  [theme=dark] .colab-df-quickchart {\n",
              "      --bg-color: #3B4455;\n",
              "      --fill-color: #D2E3FC;\n",
              "      --hover-bg-color: #434B5C;\n",
              "      --hover-fill-color: #FFFFFF;\n",
              "      --disabled-bg-color: #3B4455;\n",
              "      --disabled-fill-color: #666;\n",
              "  }\n",
              "\n",
              "  .colab-df-quickchart {\n",
              "    background-color: var(--bg-color);\n",
              "    border: none;\n",
              "    border-radius: 50%;\n",
              "    cursor: pointer;\n",
              "    display: none;\n",
              "    fill: var(--fill-color);\n",
              "    height: 32px;\n",
              "    padding: 0;\n",
              "    width: 32px;\n",
              "  }\n",
              "\n",
              "  .colab-df-quickchart:hover {\n",
              "    background-color: var(--hover-bg-color);\n",
              "    box-shadow: 0 1px 2px rgba(60, 64, 67, 0.3), 0 1px 3px 1px rgba(60, 64, 67, 0.15);\n",
              "    fill: var(--button-hover-fill-color);\n",
              "  }\n",
              "\n",
              "  .colab-df-quickchart-complete:disabled,\n",
              "  .colab-df-quickchart-complete:disabled:hover {\n",
              "    background-color: var(--disabled-bg-color);\n",
              "    fill: var(--disabled-fill-color);\n",
              "    box-shadow: none;\n",
              "  }\n",
              "\n",
              "  .colab-df-spinner {\n",
              "    border: 2px solid var(--fill-color);\n",
              "    border-color: transparent;\n",
              "    border-bottom-color: var(--fill-color);\n",
              "    animation:\n",
              "      spin 1s steps(1) infinite;\n",
              "  }\n",
              "\n",
              "  @keyframes spin {\n",
              "    0% {\n",
              "      border-color: transparent;\n",
              "      border-bottom-color: var(--fill-color);\n",
              "      border-left-color: var(--fill-color);\n",
              "    }\n",
              "    20% {\n",
              "      border-color: transparent;\n",
              "      border-left-color: var(--fill-color);\n",
              "      border-top-color: var(--fill-color);\n",
              "    }\n",
              "    30% {\n",
              "      border-color: transparent;\n",
              "      border-left-color: var(--fill-color);\n",
              "      border-top-color: var(--fill-color);\n",
              "      border-right-color: var(--fill-color);\n",
              "    }\n",
              "    40% {\n",
              "      border-color: transparent;\n",
              "      border-right-color: var(--fill-color);\n",
              "      border-top-color: var(--fill-color);\n",
              "    }\n",
              "    60% {\n",
              "      border-color: transparent;\n",
              "      border-right-color: var(--fill-color);\n",
              "    }\n",
              "    80% {\n",
              "      border-color: transparent;\n",
              "      border-right-color: var(--fill-color);\n",
              "      border-bottom-color: var(--fill-color);\n",
              "    }\n",
              "    90% {\n",
              "      border-color: transparent;\n",
              "      border-bottom-color: var(--fill-color);\n",
              "    }\n",
              "  }\n",
              "</style>\n",
              "\n",
              "  <script>\n",
              "    async function quickchart(key) {\n",
              "      const quickchartButtonEl =\n",
              "        document.querySelector('#' + key + ' button');\n",
              "      quickchartButtonEl.disabled = true;  // To prevent multiple clicks.\n",
              "      quickchartButtonEl.classList.add('colab-df-spinner');\n",
              "      try {\n",
              "        const charts = await google.colab.kernel.invokeFunction(\n",
              "            'suggestCharts', [key], {});\n",
              "      } catch (error) {\n",
              "        console.error('Error during call to suggestCharts:', error);\n",
              "      }\n",
              "      quickchartButtonEl.classList.remove('colab-df-spinner');\n",
              "      quickchartButtonEl.classList.add('colab-df-quickchart-complete');\n",
              "    }\n",
              "    (() => {\n",
              "      let quickchartButtonEl =\n",
              "        document.querySelector('#df-e85b7119-05cb-4d43-b326-e90acba79fcf button');\n",
              "      quickchartButtonEl.style.display =\n",
              "        google.colab.kernel.accessAllowed ? 'block' : 'none';\n",
              "    })();\n",
              "  </script>\n",
              "</div>\n",
              "    </div>\n",
              "  </div>\n"
            ]
          },
          "metadata": {},
          "execution_count": 21
        }
      ],
      "source": [
        "training_df"
      ]
    },
    {
      "cell_type": "code",
      "execution_count": 22,
      "metadata": {
        "id": "YlBWomuakBW-",
        "colab": {
          "base_uri": "https://localhost:8080/"
        },
        "outputId": "10539c03-8041-4105-8adb-a1d372eaeee5"
      },
      "outputs": [
        {
          "output_type": "stream",
          "name": "stdout",
          "text": [
            "Silhouette Score: 0.83362330284984\n"
          ]
        }
      ],
      "source": [
        "#A Silhouette Score between 0.7 to 1 indicates clusters are well formed and distinct from other clusters\n",
        "silhouette_avg = silhouette_score(X_train, training_df['cluster'])\n",
        "print(f\"Silhouette Score: {silhouette_avg}\")"
      ]
    },
    {
      "cell_type": "code",
      "execution_count": 23,
      "metadata": {
        "id": "GfZtVb1O3lZh",
        "colab": {
          "base_uri": "https://localhost:8080/"
        },
        "outputId": "3518a5f1-02de-47a4-b431-9565df5560a0"
      },
      "outputs": [
        {
          "output_type": "stream",
          "name": "stdout",
          "text": [
            "The predicted cluster for 'noise' is: 5\n"
          ]
        }
      ],
      "source": [
        "def predict_cluster(word):\n",
        "    # Extract features for the word (similar to the preprocessing steps during training)\n",
        "    word_vector = word_to_vec(word)\n",
        "    features = extract_features(word)\n",
        "    ari = features['ari']\n",
        "    length = features['length']\n",
        "    #lang = features['language']\n",
        "    features=[ari,length]\n",
        "    '''print(f\"Word Vector: {word_vector}\")\n",
        "    print(f\"Features: {features}\")'''\n",
        "\n",
        "    # Check if any feature is None (indicating an issue with feature extraction)\n",
        "    if None in features or word_vector is None:\n",
        "        print(f\"Error extracting features for '{word}'. Unable to predict the cluster.\")\n",
        "        return None\n",
        "\n",
        "    # Concatenate features\n",
        "    input_features = np.concatenate([word_vector, features])\n",
        "    input_features = input_features.reshape(1, -1)\n",
        "\n",
        "\n",
        "    # Predict the cluster\n",
        "    predicted_cluster = kmeans.predict(input_features)\n",
        "\n",
        "    return predicted_cluster[0]\n",
        "\n",
        "\n",
        "word_to_predict = \"noise\"\n",
        "predicted_cluster = predict_cluster(word_to_predict)\n",
        "\n",
        "if predicted_cluster is not None:\n",
        "    print(f\"The predicted cluster for '{word_to_predict}' is: {predicted_cluster}\")\n",
        "else:\n",
        "    print(\"Unable to predict the cluster.\")\n"
      ]
    },
    {
      "cell_type": "code",
      "execution_count": 24,
      "metadata": {
        "id": "pVTceqdK5K9w",
        "colab": {
          "base_uri": "https://localhost:8080/"
        },
        "outputId": "e1a7517c-423b-4f12-f369-78a37e707edd"
      },
      "outputs": [
        {
          "output_type": "stream",
          "name": "stdout",
          "text": [
            "Random Words:\n",
            "92233     depersonalization\n",
            "111743              empower\n",
            "54319         carbosilicate\n",
            "114641          entreatment\n",
            "Name: word, dtype: object\n"
          ]
        }
      ],
      "source": [
        "random_words = application_df['word'].sample(n=4, random_state=42)\n",
        "\n",
        "print(\"Random Words:\")\n",
        "print(random_words)"
      ]
    },
    {
      "cell_type": "code",
      "source": [
        "type(random_words)"
      ],
      "metadata": {
        "colab": {
          "base_uri": "https://localhost:8080/"
        },
        "id": "IT3wxKLOVx7r",
        "outputId": "a93a7ded-8c20-4013-f27b-5f401af99e0f"
      },
      "execution_count": 25,
      "outputs": [
        {
          "output_type": "execute_result",
          "data": {
            "text/plain": [
              "pandas.core.series.Series"
            ]
          },
          "metadata": {},
          "execution_count": 25
        }
      ]
    },
    {
      "cell_type": "code",
      "source": [
        "!pip install gtts pydub"
      ],
      "metadata": {
        "colab": {
          "base_uri": "https://localhost:8080/"
        },
        "id": "blNeknJ4Nvwo",
        "outputId": "5e1d848e-1458-4a76-bc94-cbf96b851d8b"
      },
      "execution_count": 26,
      "outputs": [
        {
          "output_type": "stream",
          "name": "stdout",
          "text": [
            "Collecting gtts\n",
            "  Downloading gTTS-2.4.0-py3-none-any.whl (29 kB)\n",
            "Collecting pydub\n",
            "  Downloading pydub-0.25.1-py2.py3-none-any.whl (32 kB)\n",
            "Requirement already satisfied: requests<3,>=2.27 in /usr/local/lib/python3.10/dist-packages (from gtts) (2.31.0)\n",
            "Requirement already satisfied: click<8.2,>=7.1 in /usr/local/lib/python3.10/dist-packages (from gtts) (8.1.7)\n",
            "Requirement already satisfied: charset-normalizer<4,>=2 in /usr/local/lib/python3.10/dist-packages (from requests<3,>=2.27->gtts) (3.3.2)\n",
            "Requirement already satisfied: idna<4,>=2.5 in /usr/local/lib/python3.10/dist-packages (from requests<3,>=2.27->gtts) (3.6)\n",
            "Requirement already satisfied: urllib3<3,>=1.21.1 in /usr/local/lib/python3.10/dist-packages (from requests<3,>=2.27->gtts) (2.0.7)\n",
            "Requirement already satisfied: certifi>=2017.4.17 in /usr/local/lib/python3.10/dist-packages (from requests<3,>=2.27->gtts) (2023.11.17)\n",
            "Installing collected packages: pydub, gtts\n",
            "Successfully installed gtts-2.4.0 pydub-0.25.1\n"
          ]
        }
      ]
    },
    {
      "cell_type": "code",
      "source": [
        "random_words = random_words.tolist()\n",
        "random_words"
      ],
      "metadata": {
        "colab": {
          "base_uri": "https://localhost:8080/"
        },
        "id": "39hcKLUeXLwj",
        "outputId": "92cf497c-9f80-4607-aeff-c9b4687fc68b"
      },
      "execution_count": 27,
      "outputs": [
        {
          "output_type": "execute_result",
          "data": {
            "text/plain": [
              "['depersonalization', 'empower', 'carbosilicate', 'entreatment']"
            ]
          },
          "metadata": {},
          "execution_count": 27
        }
      ]
    },
    {
      "cell_type": "code",
      "source": [
        "index = random.randint(0,3)\n",
        "word = random_words[index]\n",
        "word"
      ],
      "metadata": {
        "colab": {
          "base_uri": "https://localhost:8080/",
          "height": 36
        },
        "id": "cl-PmXX5XsOG",
        "outputId": "cde2b100-da05-4eec-bc42-461ec1f1edfb"
      },
      "execution_count": 28,
      "outputs": [
        {
          "output_type": "execute_result",
          "data": {
            "text/plain": [
              "'carbosilicate'"
            ],
            "application/vnd.google.colaboratory.intrinsic+json": {
              "type": "string"
            }
          },
          "metadata": {},
          "execution_count": 28
        }
      ]
    },
    {
      "cell_type": "code",
      "source": [
        "from gtts import gTTS\n",
        "import IPython.display as ipd\n",
        "import io\n",
        "\n",
        "\n",
        "print(f\"\\nWord {index + 1}: {word}\")\n",
        "\n",
        "# Generate the pronunciation using gTTS\n",
        "tts = gTTS(text=word, lang='en', slow=False)\n",
        "\n",
        "# Save the audio to a BytesIO object\n",
        "audio_buffer = io.BytesIO()\n",
        "tts.write_to_fp(audio_buffer)\n",
        "\n",
        "# Play the audio in the notebook\n",
        "ipd.display(ipd.Audio(audio_buffer.getvalue(), autoplay=True))\n",
        "\n",
        "# Track the index of the pronounced word\n",
        "print(f\"The index of the pronounced word is: {index + 1}\")\n"
      ],
      "metadata": {
        "colab": {
          "base_uri": "https://localhost:8080/",
          "height": 130
        },
        "id": "JG_ASs6hNKAd",
        "outputId": "c72ab72b-beb0-479a-bb98-f21ac432f72f"
      },
      "execution_count": 29,
      "outputs": [
        {
          "output_type": "stream",
          "name": "stdout",
          "text": [
            "\n",
            "Word 3: carbosilicate\n"
          ]
        },
        {
          "output_type": "display_data",
          "data": {
            "text/plain": [
              "<IPython.lib.display.Audio object>"
            ],
            "text/html": [
              "\n",
              "                <audio  controls=\"controls\" autoplay=\"autoplay\">\n",
              "                    <source src=\"data:audio/wav;base64,//NExAAQ0F3kAUYYAAAACBCMc8mAAAQIECBAgQJkyadg+D4Y4Jg+D4Pg+CAIAg5QYwfBAEAQBAEw/8QHNYPh8EAQ/qBAEAx/0+o5lz/1AgZV35kxKC5+TSA7nq7byHnU//NExA8T8vpAAZooAf+G4vTU/BBMXAgsL+KEaosVPkId41iiJP3+YRY6N/Y52vVUen/5G8glGs8rJ/+Rm/8o1jkpKRP//3+f+LEKfVediZiwEVF3EeGGsx83XMMfisiU//NExBIVUQqkAY94AKK9XKSKyHwr4+4Y/1E+DjQhSsI5H+735lpaW+BtoKnt///bH9JmgEd7qiewu9yEgN4TASlLf+TT4Xf//Uw5CTPSYHpVEA3oXXXKWTMiSSQGtmJF//NExA8VKd6cAcxYAIZ7r5Z5tGJTSkmnVThoPzJGIvMwTh6XPRCVVb7pfa+HNZ1FRPELdXfX8xXzd/FdcMZD2ez6+XV0yoPODIBP//Wj/T+7q0IfuWBBAWc5iyZyRm2R//NExA0UQZagADMElDixZh2giQQxKXHb61C4ChSKo7DmJZibZCv2dmVDa0lfUQxXDBjFZ7f3z06KkogKaOYLIWUa8Phc0SAT3P97KP/s9WdrmdXptmBj0lZ8Vt2lUQUW//NExA8VSR6kAMvecJZRsUysIOW0p3ysADh2ifFsaQ/gBAGAaCsQwc4/x/qxWsiWV8u2r53v5x77zuLe+94893/q7ms5ndS5QWgE4C92ROq5iaXV5jrdYgOLax/UlCgT//NExAwTmRqsAMZecDBoOwygwLjH405lLUWkCSDhFQ0o6ZYJHpDMuJSXSJYRHTyp6xbJ+fVa0j/H9Wxw/ps/1XmLSNBj9Zohv0SpBCkEvUqi/8ckPQOSK93lAA5l58K7//NExBAR4XqsAMZUlXBlZu2AriN6++DOx6RydXONxFuXNlNfcdWLF7H8+MT9fvxJMPdiARgONiqF6RE5vZ/VvX9fQmAKq5iAjofdBR0gzCjXBbPMwp2hwU+jxouHLuQi//NExBsR8OasAJ5ecBTWZWe5HLsoBJAFLATyT1ZmIE0TVpeZfG8XxDFBNBLqcjG/13xoPgX//yrAQrm+fy0KMF1yzUTqUYWWEg5Bcpo8BUjzqBYEmt4W0MU1gwjlfCbL//NExCYSYOKsAMZwcNpBJVjl5+uZCUl+7G7cqWGc9T0X3ha7VvH2Kb//6mPGC3f+is+Z6rxAKggGzbeV3exAKhj6j1L5zOs8KYphnqQdPGK2UpCh1ln6yiK+jbYr2/Ve//NExC8R6NagANawcJKaPhYKAC9nh8NP9D0s+oOaXf/+LJ6PpL1/K+cxOQaZGSY9MCj7ZWQygv4YeWc4igOordNIZsEARCFE37fKB3UEKJ5GvfG84hDbEAMC3s/upWqr//NExDoSgLqQANayTASsVMDZkI8O9///h07zv5YaBGFfK1tGAhZw+sUDZhIAksgeUChk8AOJ4mnO7BT4LWUyZs/q0oW7MMsSZiksgcsV+YDoCRwfk0kjrB/nLfVrDR4F//NExEMQwNJoAN5YcZFN5077lzzhATIClmPA2iCcBuAcB3nmk1UQs9Dwf3V686Vd9McZkvAuPzQIBQ7VGMQMeEFMnv9MExAAM5E/cf/z/pWOYZVZKpwFcQOUqlg9/B0C//NExFMQoOqAANPScGYyGsJq12pJAiE0BhvJY1WgwLhsKkVJjGo0nQw+cgqIRN+2d4ZWs/d/7xyKEZdDWOUAgUjZR0qI4A5N6k7cyZrr/7rZaMYQ7fjDLzIb5jlVgIwC//NExGMXQaqQANZOlEOIbS5i0qbwxa8x+KATEzbCGUqyQTW7S2Ym0te6Cru35ZKKJ/o0zUYGwvpmEKVZ/m8OhLOSkQx65Mub3eQ4EKBJV+8e2fY1GcX1r71OsLAAY7jt//NExFkaMTKcANbecCTedSCDgx2KFHs6P///9amxz6iS4tTVofCWxUvEdBWAuuJPSBSsBBZdnK2vxiXZ45wxK7O87axdakBgZiCEoclchCodrv/XLWyfn5tXN2Z/a71t//NExEMVgS6kANYYcFopBhBhI5f7CogHsbF4AQdQz+tu+VWmC8cOmvxImuGPCnekkSWBoBYBPY0sJPCkqurJUg2ibedc2tokp7lk7ikupSuTV31re39bp/57K9Ozn7u1//NExEAhEyKUANMMvItYxCjaz61Nnbv/2/+PfyPtS/JVVO96+tnp8du0OyF9o3diX2HThgRAsmZEZbRsQ6d65NDvZkk6gnRBDxE/O+2xAtM/VbfGTxTkiIEVHs599/fZ//NExA4VmxqsAEhKvf/8pJ/9f//ydf//+/NcxXS9KbpuetTlMcwi6uhEVaHYSKMGiIgPJU93IOsdAtFGCBA8EQOAjjw4LsIBwBwOICouA4uGD0DoxEoBDaGe2n+f/+X///NExAoU+xqoAChWvd////8clP/////4++b9v1NfxP1zFw77ax1Spt7tiXM+9lOca1MU572n2OQYeSKSyWWfUSHujdWXEEcNQSCcII4JCeagmqDqBMdhFt///////3/y//NExAkReyKwABBOvP//1///9////vnXR9EOMZk72U2iGuhzmD44eqVQw4uYOESSDhMkaZHlHRgF43EocE4OAeAsLkRKEQUhcm4Zv//////6rtVK+8+n0RrIep7oz3fV//NExBYPWxqwABAOvdj0PZWTdTkHB4gRY8wfG7ow1IC4cJCseOEwuB+XEQHgXIAuFg3GgHUW3///5S///Mv///7H/////3v191/orOrrU6jaMnVFdGPHTzig4cXPQsYj//NExCsRUxKwABBOuZIXD40jcsI43GoREjjzyJtEULCcSSIPxSJplWKcSxHPyW8YK7BIIhXV9fBjHyWln74AuR+tSf/+bSYv///+lPf//6lqm77qRjGsjpzOjo9HYMdj//NExDgR0x60AGBEvBnNQ2UrFQytlKilAWNKDdW5a9D8I8up+m5GdJdpQJLI4exUCtBigmXYg1y1OxqZkuFnNO4Ps+eK0giAfLF34aHzgnesfaXeBDIaBc43v/1///////NExEMRUL6sAMZYTP/6Fe5eVSq1d5witM2RmISaG5An8nDO+vii/6eE63HHl5x06NAkAnhPLg1g9BzilMy665q1ftrS1+/MjZI4Ysszf6/e13//0L3NkkSg1m2ICDUo//NExFAROUKwAMYacCXaNRRJUmmy363eQagms6rsLitBinO/L7rHUhFoCgdlzkKs8dNzW25rafzv5xxxc1YO0r8TRLWJYScFCSi9GU9ADgYY1xVU4FckzuL5XpDNV7Ah//NExF4QWUKkAMYOcBXdn2FkT067Bn1pJOysCBB166xgye/k1a2umiiZ/6ChUYCpSQ4mPBz//9FouodgV4jAlQMFpSo+YyqwzH2BnGJdm/fUIlEDkECKmd9lpFOUWjRE//NExG8SKKaMANbyTDqVNsAob+scNfY/9d/9f9e/fXr/f9GqBlERXPr/DtT//+mjoXoCs4OUYv8POBpO3dbRv9hEVlFUEiSwgYVAZ2u9KIGGxxuaYcR5lmLdD1gII4iy//NExHkSAZ6MAN4ElBmkoxgOf/7ef65qnZtGqRvr5z1F3GBYZDogOCIYUfQxRYs71f9C3l9v//uFKn9tywEhCaxG2wCshuUMM9EeFM2nVkNaNivE/zdUhfFD0wp/TM1W//NExIQXUVqQANYKlMq0o8jjLJtaCDK+4KcUt+1+TwJUvXYvnOD6jrCA7EGxO9SUFHUPscYgFqMFdOI8TZkEneLSXYn+tow2ckv//LuqLrKVlkuiIFtJxakRM9EeEbgk//NExHkaWaaUANZKlHgj52ndHSAF6TvyhxDsyG0sCzSxt/Z239qQ58pu/eaU21uPMCj9LSyTiiIeFLFerTHaujD4iFgtFXRt/78xmEUIs+my3+xX//16lXup2JmkkmiE//NExGIWUZKUAM4KlMMCAKABJZFZxjFZrh5DXxBkvWKwvFFdSqGmavn264ta18XrTTiEAsIwciqw8XNFX/01yptAsn/kaxLZ//8O//8kDsLibsYTKnSJL8vo3KLxmYAC//NExFsSOR6EANPQcD9h6Gvv1g+f+l77u5EJ7XtRJ5E1JI/nxAgS0qpcZTn3US4PmLniSIDkeD+m5jf//0+r8P05jcJ1py7jfry+xK4bt0l65e+lJ2adSl1//RzK2t1O//NExGURaP5gAMMGcJpk821KxYcEyq8mLFmLx/9evYcLgCB8QCgKORk5vlwDomEaDbbyVlza+1kIEDGZCM4GV24sQ8IQQQTJNYWGz9UlQjagKMI9zz/2oV/L/LnOr/yc//NExHIgUq5oAMMSuf5Vf/5Sn6n8ep3C/h72gBUIloiujr8bEJGDgQE9MkajW31F5Qmq+KkGPsPLwY1ialRhSCorzivlqQStuTB8iJZINRsrkA2EgwTCkfJwUG0RCRGJ//NExEMhex6MAEpSvNOULtWu3HtMCts0SagLxUTf0lFV4zRr3vkpuI59BlRYhj2Es2HgllRpiHxfZ1Pfc8lD+E2J7nhfmkxTtY/97VQnXdQuyIwLBQWfFc2ZKRhmVqRS//NExBAS6g6gAEhGmELX8Nj1OGGZibRFrVr+gRvBCkEkW7aw/hm3/wH5H5cWNSPWilQ+WHKyjC5EGVLc0NSK0/QpC3HcqqVpRc5ybMUBIa1Y6aXryhC/kqQjZ+RmTM91//NExBcSwSqcAMPKcDu9McfVtP8e+/I2jfYhc9lHKoDA4qYeBmdkaLi8o4NG07ZDfcAiYAe5XV+hMmQ///1WixjPGUg1zvdTTTgdlsQRA70ElKZqYT/vpDUamqt7Ckv2//NExB8UQS6kAMYQcGno8ca/24+9F2R5q6IoqAaBKoUFweODh2KHkFS1EbQNswpFt9bUzQRA81/f+67///2JxxmQYnvaho1p19jPkeV92ujfLG2l3PoIX/wVhyvh+rHf//NExCESATKgAM4ScDrxXu4HvhzMgG+VA2SrEQNoVVkMWK2UGoRNHVlW+OsYr9p00n7/68ebEMp6pGxNuGQE2vWcEDg+vKjqWflDfd1JbPJXO73Tfa8agZ+KVDo4qMky//NExCwSUTqgAMYScFIc9JyqCeZBmNy3UbO0SPbfEezZ+1QW/d/////61aXbwGgbIJsLzl+Y1Hg1pz2kGjOmbTZQd2qrFLveqmzjlnm73NreMXYtYPBqeoEjxIC8Gph7//NExDURkS6YAM5QcB0s220xqlzTUxiTP/yxZDP61XagtpRxhOhKDKNgmlcwDPccsAobPZ3FbU3U59WzemrOG+f9NtNua2oy5AeSNO/N0qY2sqLCF55n/oQ4l//3qesX//NExEEQAN6QAM4McEIBkgktS8IWYAxF4UUUVkdQUECBLWvIea0kmjB6r7NNc1xUN8rA04HgXOZSPlYrUN/bhhymf/+3+Z6GMYV/6cYn///+VQBET2y2SpWy1Q1frhPr//NExFQRcbZoAMIElDGUO0stx3vWd0ebQLmiiCs4UAusiGq6nSFwpOTFCenJxQTOCGcJa7X3+cMcV+7/pWuMVS+7jAkioqfiYDV6R9bGC6J2KzN/WUbBEmKYQzQbDwYS//NExGEPwFZIAVgYAE0MK/96ZRqk6WxVZrIQnvQORmG3ya/VGq+T/xogJIFxWqApkiqUo/+vs/309ixzUiepS0BSJclVz/////qIJRbTN0bUY1DFaVRpciJk1v////////NExHUhuyZ4AZhIAP+ezhkLmx6rP+1e3UYsqkLlYj9JSLiS1UyMTM+r8RrWzBe7rWL/v1//6Tbpf79flKVAICZAIxv/mNmTq31KAgJgpSlmMn+X9DG5jOpQFxLiUqGq//NExEESUkYoAc8QAM610Rf1A04Gqhe0tX42/lYcWA+I6FukINuOXtOJhHRf4WR+eJHimmZoR0PDT3Mk0ACAjxO0+GJIomnid5QBn0lBetCkpp5omJ/L62ekpSxvP8mk//NExEoRKS4AAGIGcEsLFCA5pcEXoxbOdicV2fYcFiRaKlamLisV7ncQBgOAxgUE4iDbAMRSskWIpIvWkBhQGhdYiBhLw6BCyXqjU2ZFiPfi/0Ibx6sk+P6wqK5vRcUT//NExFgSqOn4ADGGcAy0stSU9trvlPKhNtVatDllyDQDNCQGDsqeBpJ0zmmOWKhlyAkLGlkDQVWMcWa19lP+7oUSr/M1ASJhLPD9y7EMMG5tlSIZGSiNicJ1dw3NyUVk//NExGARGN4AAHmGcK4bmxr7dGTLHMsyZQQOlmrBQwMGjyyggYMEzLugKs1Cwriop/i7OLcXZ/bxVuoXRGROICp9Am9uHQwGwANlf/Sm6UyP//7k9NKwgOGGAAY4gODA//NExG4SgUmkAGJGlHwsC4RDj/7TBoCN+noFfQ0ahg5OUJjSDutDfrTqSg1QcJMj/aGJ+sqJXMLc1tjm4vpdltlv8RONONKLj4kCgwGIJkCaakkaNOLQROtEGPDEgNMJ//NExHcQaRHUAEhGcAYWMSnGhIFAiYYciklNTU1Lf7lf05ZR5AmMHhk1opI1m5tfKNKPMJrRSn/vknFxvypn4kac7eWfGtSUy007b8k4uNx2vcrvFqSSJbVBqgCgcRoJ//NExIggkvnoAHmMuaiZwuvCef/6EZfRGSfxBMhprkf//////JlYHUP+y2f/FWWWKGCgwjo8stl/rUGIzJnxUU1C3FRRv6hdlYqLNixOTEFNRTMuMTAwqqqqTEFNRTMu//NExFgRcf2oAEhGmDEwMKqqqqqqqqqqqqqqqqqqqqqqqqqqqqqqqqqqqqqqqqqqqqqqqqqqqqqqqqqqqqqqqqqqqqqqqqqqqqqqqqqqqqqqqqqqqqqqqqqqqqqqqqqq//NExGUAAANIAAAAAKqqqqqqqqqqqqqqqqqqqqqqqqqqqqqqqqqqqqqqqqqqqqqqqqqqqqqqqqqqqqqqqqqqqqqqqqqqqqqqqqqqqqqqqqqqqqqqqqqqqqqqqqqqqqqq//NExKwAAANIAAAAAKqqqqqqqqqqqqqqqqqqqqqqqqqqqqqqqqqqqqqqqqqqqqqqqqqqqqqqqqqqqqqqqqqqqqqqqqqqqqqqqqqqqqqqqqqqqqqqqqqqqqqqqqqqqqqq\" type=\"audio/wav\" />\n",
              "                    Your browser does not support the audio element.\n",
              "                </audio>\n",
              "              "
            ]
          },
          "metadata": {}
        },
        {
          "output_type": "stream",
          "name": "stdout",
          "text": [
            "The index of the pronounced word is: 3\n"
          ]
        }
      ]
    },
    {
      "cell_type": "code",
      "source": [
        "cluster_of_random_word = predict_cluster(word)"
      ],
      "metadata": {
        "id": "-Y9WB9ZOQILV"
      },
      "execution_count": 30,
      "outputs": []
    },
    {
      "cell_type": "code",
      "source": [
        "print(f\"Cluster of Random Word: {cluster_of_random_word}\")\n",
        "\n",
        "words_in_same_cluster = application_df[application_df['word'].apply(predict_cluster) == cluster_of_random_word]\n",
        "\n",
        "# Select 4 random words from the same cluster\n",
        "random_words_from_same_cluster = words_in_same_cluster['word'].sample(n=4, random_state=42)"
      ],
      "metadata": {
        "colab": {
          "base_uri": "https://localhost:8080/"
        },
        "id": "V5AqNWNmZJnm",
        "outputId": "43f3ba69-4590-4ec2-ed26-392d0a02bdb8"
      },
      "execution_count": 31,
      "outputs": [
        {
          "output_type": "stream",
          "name": "stdout",
          "text": [
            "Cluster of Random Word: 12\n"
          ]
        }
      ]
    },
    {
      "cell_type": "code",
      "source": [
        "random_words_from_same_cluster = random_words_from_same_cluster.tolist()\n",
        "index = random.randint(0,3)\n",
        "word = random_words_from_same_cluster[index]\n",
        "word"
      ],
      "metadata": {
        "colab": {
          "base_uri": "https://localhost:8080/",
          "height": 36
        },
        "id": "1o1pFVqacAum",
        "outputId": "0e427e74-237d-4982-a591-b0d47681a9a3"
      },
      "execution_count": 32,
      "outputs": [
        {
          "output_type": "execute_result",
          "data": {
            "text/plain": [
              "'canticle'"
            ],
            "application/vnd.google.colaboratory.intrinsic+json": {
              "type": "string"
            }
          },
          "metadata": {},
          "execution_count": 32
        }
      ]
    },
    {
      "cell_type": "code",
      "source": [
        "tts = gTTS(text=word, lang='en', slow=False)\n",
        "\n",
        "audio_buffer = io.BytesIO()\n",
        "tts.write_to_fp(audio_buffer)\n",
        "\n",
        "ipd.display(ipd.Audio(audio_buffer.getvalue(), autoplay=True))\n",
        "\n",
        "print(f\"The index of the pronounced word is: {index + 1}\")\n"
      ],
      "metadata": {
        "colab": {
          "base_uri": "https://localhost:8080/",
          "height": 93
        },
        "id": "j6aORo0Sc2Jw",
        "outputId": "5ee5db02-9eba-4641-fd98-32450703abd0"
      },
      "execution_count": 33,
      "outputs": [
        {
          "output_type": "display_data",
          "data": {
            "text/plain": [
              "<IPython.lib.display.Audio object>"
            ],
            "text/html": [
              "\n",
              "                <audio  controls=\"controls\" autoplay=\"autoplay\">\n",
              "                    <source src=\"data:audio/wav;base64,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\" type=\"audio/wav\" />\n",
              "                    Your browser does not support the audio element.\n",
              "                </audio>\n",
              "              "
            ]
          },
          "metadata": {}
        },
        {
          "output_type": "stream",
          "name": "stdout",
          "text": [
            "The index of the pronounced word is: 2\n"
          ]
        }
      ]
    },
    {
      "cell_type": "code",
      "source": [
        "cluster_of_random_word = predict_cluster(word)\n",
        "cluster_of_random_word"
      ],
      "metadata": {
        "colab": {
          "base_uri": "https://localhost:8080/"
        },
        "id": "q9thvZ6FeKhH",
        "outputId": "1755d2c7-03ed-4555-94bd-27b947f4448e"
      },
      "execution_count": 34,
      "outputs": [
        {
          "output_type": "execute_result",
          "data": {
            "text/plain": [
              "12"
            ]
          },
          "metadata": {},
          "execution_count": 34
        }
      ]
    },
    {
      "cell_type": "code",
      "source": [
        "import time\n",
        "stored_clusters = []\n",
        "\n",
        "def play_round():\n",
        "    random_words = application_df['word'].sample(n=4)\n",
        "    random_words = random_words.tolist()\n",
        "    index = random.randint(0,3)\n",
        "    word_to_pronounce = random_words[index]\n",
        "\n",
        "    print(f\"\\nListen to the word\")\n",
        "    tts = gTTS(text=word_to_pronounce, lang='en', slow=False)\n",
        "    tts.save('pronunciation.mp3')\n",
        "    ipd.display(ipd.Audio('pronunciation.mp3', autoplay=True), metadata=dict(rate=44100))\n",
        "    time.sleep(2)\n",
        "\n",
        "\n",
        "    print(\"\\nSelect the correct option by index:\")\n",
        "    for index, word in enumerate(random_words):\n",
        "        print(f\"{index + 1}. {word}\")\n",
        "\n",
        "    user_input = int(input(\"Enter the index of the correct option: \"))\n",
        "\n",
        "    if user_input == index + 1:\n",
        "        print(\"Correct!!\")\n",
        "    elif user_input == index + 1:\n",
        "        cluster_of_incorrect_word = predict_cluster(word_to_pronounce)\n",
        "        print(f\"Incorrect! Predicted cluster of the incorrectly selected word: {cluster_of_incorrect_word}\")\n",
        "        stored_clusters.append(cluster_of_incorrect_word)\n",
        "\n",
        "\n",
        "for _ in range(5):\n",
        "    play_round()\n",
        "\n",
        "\n",
        "print(\"\\nStored clusters:\", stored_clusters)\n",
        "print(\"Use these clusters to regulate the randomization in future iterations.\")"
      ],
      "metadata": {
        "colab": {
          "base_uri": "https://localhost:8080/",
          "height": 1000
        },
        "id": "spPVuR61jCP6",
        "outputId": "610c0d2f-4193-4a88-cefb-8b4dac9fb8eb"
      },
      "execution_count": 35,
      "outputs": [
        {
          "output_type": "stream",
          "name": "stdout",
          "text": [
            "\n",
            "Listen to the word\n"
          ]
        },
        {
          "output_type": "display_data",
          "data": {
            "text/plain": [
              "<IPython.lib.display.Audio object>"
            ],
            "text/html": [
              "\n",
              "                <audio  controls=\"controls\" autoplay=\"autoplay\">\n",
              "                    <source src=\"data:audio/mpeg;base64,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\" type=\"audio/mpeg\" />\n",
              "                    Your browser does not support the audio element.\n",
              "                </audio>\n",
              "              "
            ]
          },
          "metadata": {
            "rate": 44100
          }
        },
        {
          "output_type": "stream",
          "name": "stdout",
          "text": [
            "\n",
            "Select the correct option by index:\n",
            "1. marse\n",
            "2. overfactitious\n",
            "3. Thorsten\n",
            "4. overvaluation\n",
            "Enter the index of the correct option: 3\n",
            "\n",
            "Listen to the word\n"
          ]
        },
        {
          "output_type": "display_data",
          "data": {
            "text/plain": [
              "<IPython.lib.display.Audio object>"
            ],
            "text/html": [
              "\n",
              "                <audio  controls=\"controls\" autoplay=\"autoplay\">\n",
              "                    <source src=\"data:audio/mpeg;base64,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\" type=\"audio/mpeg\" />\n",
              "                    Your browser does not support the audio element.\n",
              "                </audio>\n",
              "              "
            ]
          },
          "metadata": {
            "rate": 44100
          }
        },
        {
          "output_type": "stream",
          "name": "stdout",
          "text": [
            "\n",
            "Select the correct option by index:\n",
            "1. thecitis\n",
            "2. oleaster\n",
            "3. crig\n",
            "4. portiones\n",
            "Enter the index of the correct option: 4\n",
            "Correct!!\n",
            "\n",
            "Listen to the word\n"
          ]
        },
        {
          "output_type": "display_data",
          "data": {
            "text/plain": [
              "<IPython.lib.display.Audio object>"
            ],
            "text/html": [
              "\n",
              "                <audio  controls=\"controls\" autoplay=\"autoplay\">\n",
              "                    <source src=\"data:audio/mpeg;base64,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\" type=\"audio/mpeg\" />\n",
              "                    Your browser does not support the audio element.\n",
              "                </audio>\n",
              "              "
            ]
          },
          "metadata": {
            "rate": 44100
          }
        },
        {
          "output_type": "stream",
          "name": "stdout",
          "text": [
            "\n",
            "Select the correct option by index:\n",
            "1. octaemera\n",
            "2. prepossessions\n",
            "3. kything\n",
            "4. polysomitic\n",
            "Enter the index of the correct option: 1\n",
            "\n",
            "Listen to the word\n"
          ]
        },
        {
          "output_type": "display_data",
          "data": {
            "text/plain": [
              "<IPython.lib.display.Audio object>"
            ],
            "text/html": [
              "\n",
              "                <audio  controls=\"controls\" autoplay=\"autoplay\">\n",
              "                    <source src=\"data:audio/mpeg;base64,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\" type=\"audio/mpeg\" />\n",
              "                    Your browser does not support the audio element.\n",
              "                </audio>\n",
              "              "
            ]
          },
          "metadata": {
            "rate": 44100
          }
        },
        {
          "output_type": "stream",
          "name": "stdout",
          "text": [
            "\n",
            "Select the correct option by index:\n",
            "1. tinguaite\n",
            "2. tithonias\n",
            "3. diphtherotoxin\n",
            "4. reabuse\n",
            "Enter the index of the correct option: 4\n",
            "Correct!!\n",
            "\n",
            "Listen to the word\n"
          ]
        },
        {
          "output_type": "display_data",
          "data": {
            "text/plain": [
              "<IPython.lib.display.Audio object>"
            ],
            "text/html": [
              "\n",
              "                <audio  controls=\"controls\" autoplay=\"autoplay\">\n",
              "                    <source src=\"data:audio/mpeg;base64,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\" type=\"audio/mpeg\" />\n",
              "                    Your browser does not support the audio element.\n",
              "                </audio>\n",
              "              "
            ]
          },
          "metadata": {
            "rate": 44100
          }
        },
        {
          "output_type": "stream",
          "name": "stdout",
          "text": [
            "\n",
            "Select the correct option by index:\n",
            "1. phimosis\n",
            "2. Agamedes\n",
            "3. acetylmethylcarbinol\n",
            "4. presuspension\n",
            "Enter the index of the correct option: 1\n",
            "\n",
            "Stored clusters: []\n",
            "Use these clusters to regulate the randomization in future iterations.\n"
          ]
        }
      ]
    },
    {
      "cell_type": "code",
      "source": [
        "for i in range(5):\n",
        "    random_words = application_df['word'].sample(n=4)\n",
        "    random_words = random_words.tolist()\n",
        "    index = random.randint(0,3)\n",
        "    word_to_pronounce = random_words[index]\n",
        "    print(word_to_pronounce)"
      ],
      "metadata": {
        "colab": {
          "base_uri": "https://localhost:8080/"
        },
        "id": "0AxYfueTo9JJ",
        "outputId": "7438516c-3e84-449f-8ff6-c8e7c5055f74"
      },
      "execution_count": 36,
      "outputs": [
        {
          "output_type": "stream",
          "name": "stdout",
          "text": [
            "Arnie\n",
            "disported\n",
            "impship\n",
            "distressfulness\n",
            "letterhead\n"
          ]
        }
      ]
    },
    {
      "cell_type": "code",
      "source": [
        "stored_clusters = []\n",
        "def play_round():\n",
        "    random_words = application_df['word'].sample(n=4)\n",
        "    random_words = random_words.tolist()\n",
        "    index = random.randint(0, 3)\n",
        "    word_to_pronounce = random_words[index]\n",
        "\n",
        "    print(f\"\\nListen to the word: {word_to_pronounce}\")\n",
        "    tts = gTTS(text=word_to_pronounce, lang='en', slow=False)\n",
        "    tts.save('pronunciation.mp3')\n",
        "    ipd.display(ipd.Audio('pronunciation.mp3', autoplay=True), metadata=dict(rate=44100))\n",
        "    time.sleep(3)\n",
        "\n",
        "    print(\"\\nSelect the correct option by index:\")\n",
        "    for i, word in enumerate(random_words):\n",
        "        print(f\"{i + 1}. {word}\")\n",
        "\n",
        "    user_input = int(input(\"Enter the index of the correct option: \"))\n",
        "\n",
        "    print(f\"User input: {user_input}\")\n",
        "    print(f\"Correct index: {index + 1}\")\n",
        "\n",
        "    if user_input == index + 1:\n",
        "        print(\"Correct!!\")\n",
        "    elif user_input == index + 1:\n",
        "        cluster_of_incorrect_word = predict_cluster(word_to_pronounce)\n",
        "        print(f\"Incorrect! Predicted cluster of the incorrectly selected word: {cluster_of_incorrect_word}\")\n",
        "        stored_clusters.append(cluster_of_incorrect_word)\n",
        "\n",
        "\n",
        "for _ in range(5):\n",
        "    play_round()\n",
        "\n",
        "print(\"\\nStored clusters:\", stored_clusters)\n",
        "print(\"Use these clusters to regulate the randomization in future iterations.\")\n"
      ],
      "metadata": {
        "colab": {
          "base_uri": "https://localhost:8080/",
          "height": 1000
        },
        "id": "2cyjYXGAtoR8",
        "outputId": "01ef535d-2a8c-4e7b-ec33-268b72a0e0c2"
      },
      "execution_count": 37,
      "outputs": [
        {
          "output_type": "stream",
          "name": "stdout",
          "text": [
            "\n",
            "Listen to the word: oblocutor\n"
          ]
        },
        {
          "output_type": "display_data",
          "data": {
            "text/plain": [
              "<IPython.lib.display.Audio object>"
            ],
            "text/html": [
              "\n",
              "                <audio  controls=\"controls\" autoplay=\"autoplay\">\n",
              "                    <source src=\"data:audio/mpeg;base64,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\" type=\"audio/mpeg\" />\n",
              "                    Your browser does not support the audio element.\n",
              "                </audio>\n",
              "              "
            ]
          },
          "metadata": {
            "rate": 44100
          }
        },
        {
          "output_type": "stream",
          "name": "stdout",
          "text": [
            "\n",
            "Select the correct option by index:\n",
            "1. Cormick\n",
            "2. Hatia\n",
            "3. oblocutor\n",
            "4. bassets\n",
            "Enter the index of the correct option: 3\n",
            "User input: 3\n",
            "Correct index: 3\n",
            "Correct!!\n",
            "\n",
            "Listen to the word: ablend\n"
          ]
        },
        {
          "output_type": "display_data",
          "data": {
            "text/plain": [
              "<IPython.lib.display.Audio object>"
            ],
            "text/html": [
              "\n",
              "                <audio  controls=\"controls\" autoplay=\"autoplay\">\n",
              "                    <source src=\"data:audio/mpeg;base64,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\" type=\"audio/mpeg\" />\n",
              "                    Your browser does not support the audio element.\n",
              "                </audio>\n",
              "              "
            ]
          },
          "metadata": {
            "rate": 44100
          }
        },
        {
          "output_type": "stream",
          "name": "stdout",
          "text": [
            "\n",
            "Select the correct option by index:\n",
            "1. ablend\n",
            "2. blissing\n",
            "3. albuminiform\n",
            "4. semihobo\n",
            "Enter the index of the correct option: 1\n",
            "User input: 1\n",
            "Correct index: 1\n",
            "Correct!!\n",
            "\n",
            "Listen to the word: blissful\n"
          ]
        },
        {
          "output_type": "display_data",
          "data": {
            "text/plain": [
              "<IPython.lib.display.Audio object>"
            ],
            "text/html": [
              "\n",
              "                <audio  controls=\"controls\" autoplay=\"autoplay\">\n",
              "                    <source src=\"data:audio/mpeg;base64,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\" type=\"audio/mpeg\" />\n",
              "                    Your browser does not support the audio element.\n",
              "                </audio>\n",
              "              "
            ]
          },
          "metadata": {
            "rate": 44100
          }
        },
        {
          "output_type": "stream",
          "name": "stdout",
          "text": [
            "\n",
            "Select the correct option by index:\n",
            "1. Mylodon\n",
            "2. eugenist\n",
            "3. blissful\n",
            "4. miscreant\n",
            "Enter the index of the correct option: 3\n",
            "User input: 3\n",
            "Correct index: 3\n",
            "Correct!!\n",
            "\n",
            "Listen to the word: monetary\n"
          ]
        },
        {
          "output_type": "display_data",
          "data": {
            "text/plain": [
              "<IPython.lib.display.Audio object>"
            ],
            "text/html": [
              "\n",
              "                <audio  controls=\"controls\" autoplay=\"autoplay\">\n",
              "                    <source src=\"data:audio/mpeg;base64,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\" type=\"audio/mpeg\" />\n",
              "                    Your browser does not support the audio element.\n",
              "                </audio>\n",
              "              "
            ]
          },
          "metadata": {
            "rate": 44100
          }
        },
        {
          "output_type": "stream",
          "name": "stdout",
          "text": [
            "\n",
            "Select the correct option by index:\n",
            "1. unconfinedly\n",
            "2. scene\n",
            "3. Blattariae\n",
            "4. monetary\n",
            "Enter the index of the correct option: 4\n",
            "User input: 4\n",
            "Correct index: 4\n",
            "Correct!!\n",
            "\n",
            "Listen to the word: toughed\n"
          ]
        },
        {
          "output_type": "display_data",
          "data": {
            "text/plain": [
              "<IPython.lib.display.Audio object>"
            ],
            "text/html": [
              "\n",
              "                <audio  controls=\"controls\" autoplay=\"autoplay\">\n",
              "                    <source src=\"data:audio/mpeg;base64,//NExAARUAXcAUEYAAAgCAY+XPxOD4IAgCAIAmD4Pg+D4IAgCAIAmD4Pg+/////+BAQEAIAgD4Pg+D4OAgCAIAgD4Pg+D4OAgCAY/4PggCAIBhX/MeFQXOieL5f7B3kZ//NExA0VSvpEAZo4AUI4f8Nxefi/Fh54JjQHfmGM5UHwBgBnzDD8fiWR//mFTC7L/q7c8wcIHnF//mfoTHzDCCy//6N/7FTcyjmzP///z/5Iwzc9xSqsmTotduo5PXbz//NExAoUYmK4AYwoAEt3I0wtWh9hpSyc9O87cTHEIx9kM7q+6LV+jqipYBwEIi23+RXVT97SCCCs+fP+ghGEEDqrkiQUIILGcYARL/ooLjHdGwJBCgVE1Onx1IrGt0lW//NExAsUIgakAcgoAJTki7OpVVldHaxVQihwCJcTURxomyKyMS0qoxAFAUoAiqlnRtXfT7MkrWMZnZXaOIzOjCRlmc4iUxe1SgaRhxNn06O7UMq738H1Maww9NvkNrnZ//NExA0VCfqoAMPGmD36kCQ0B/rzQpC+FsJY3rWIcB1vDyBeE/ay/uSshx488fda23/n0JWlogi5GeMQyZp+f3n/+pKyt+2ndPPeuTDXUMYhM0L1Vam+fkQDG9TnfoUx//NExAsVKTKsAMYecELOXDPYxxoRq8PMfuWOk544caXUmpdFmEr/pOvSrlEEdCYnJuUkv9rw4+PncOuvvPvT68sf6tqz/bhcpYB4qlmQn6hexahW1bdKx5rdwqpQ0luu//NExAkUsdasAMZOmHU7DcWEdwtNHPONoE/hnDBmIMWxzq7KocXs67MAFNNWdw/2wSfLnfm6b///nedRw7yM1UOCNjWaYS8fO+3nnGtsOP7ew4AZR9eqPdQTEFxQemDR//NExAkSkSqwAJYicAmNR95LwJQ5gtWcYbR0RTsW+3VpoPSLjF8TYC4LyCKZAxYjbQQKq/duo6j0zJ9NM0NpcRSjsHZQlE4MmZHS1xn6an0CPAjoopcTMBugJJ+t4PuX//NExBERiMa0AJYecNz6aA5193HVTAVmDW6R21M3lq4YKQ2g1TinKtx4q6Pe8S8XIPip0oAg61bVEiJ5Bj+xly/11aa3UP9EOdGMvYWpYLYlDIEwV3PWhgYiFpQaAFsT//NExB0QULa4AH4eTbOMgiHm9HYEIR5um+eY+CRFWSGC8fwdzxouPcdf1vv63hict1X/zZ4HZu6gMCrhuVS5hiJ7BZGmOa6hA1Ir6UwE5JLFToR8aYaJeBwDfJqyCYk///NExC4SaLqsAMYeTCNj9guntLYluddhUAuapCFoNgqx2j/Yd6xXt0KHaakEUyrpO+gWDU9MuWFkHMjnT6uUqmtuO3B7odUSVFeDmsfCCTsJ23GkdS5U50sMTYuW+M7R//NExDcP+KacAM4eTGaOSdJf//xF1ScbMAaA8fg8LjkqCJgmTZrxNALOiVcHYzaRgAm0u8HkFAs0o1owAEYqIxM1t59zvkVDDRoywqK2N0fv/9DfJ07F9SoMP6aYMcdR//NExEoQiIKQAGJMSI/5IJyJ20CitaE2Of51plz9fX/UL3ZbFy+fsnr8O8zRNfxXoMui9qsb457u+x/n6/yBvmv/+u2StV/XebzfKg1l2+jfg7OJSegOOAKNNaHLISTM//NExFoRUCKIAEhEAcldk4tdZZEJ/ZHLBUdCA0aksMlDA5YNLA7TwgFR+XKv1xZtznI1DEZYzJC55wqVQmoOGEnvVDn99s3Yd/KFklH1pXN3hWUs9ypzrxL00ESV58RF//NExGcREV6AAChGlJTlczSJ0nI3PiC7VlAux95kPuYxlbx6l2ApWrJk4vQ1eJ4GgdiCt1opfq/1Jf//P/4x0i5l2MzfD4zc9qzNkwEwYKJjMxlFCrGY6ralGZm2YU3V//NExHUQ8dqEAFBGmColQUFBcXf10KKK5/wv/8XcBYuQ3+BR3QoEH7LhMeRjAps03CtOzUKcSzhheb2kGjxUg4TB2D5YlMhky2BoYYAOSYWx9seiBGHYwUhjLKzDR6SN//NExIQSgeJ0AU0YAUHh2cZRKzUzNV0krAflniiB4C+WnRkqe3zIdRwjuruYi0W6VUrys47mIZbtSh1QfZ5ETZRZ7pXL6JLwv7JUrTU0SlX7tSIuxzUm7nA5N958hKJ3//NExI0gqxpAAZtAAFMT3HE3V1s2Wx7f67qbcxj9lm9z/N91MxX1M99Wyop7FGn3u9bOFbOu6l/G0+gek3Nzd5NJZ4hpJYJ983virZUFCxYS7uuWdDqIoRLDQdBMD2sW//NExF0eqyqMAYtYAB+WbKlndPvf/cR3DPumSf9xoX08lm4J5hQ+EchSUhpf087Zj87v9f6dXb9vSi6/yLNVxGPOey/2H0B4N6mlkOo52n/CcmVPE47IlyjmnopQm6HO//NExDUQ8q6sAYI4AM53/93YcNRZjGoUrjErqgsCpVJ65WtqsspnnIm2dcoixirrWNq8e+UTiwsHR40GoEQNDkVFTmGjpd+G1mDrdM02jQbHA2Bc1w07Mkrd6uuPFh+8//NExEQe+v4AAcxAAYqDUFIQmuSaSqmxxZqRaoUJBYecSDUPTYi2pmvi2hqZotav15NJFV7pdrjqr1Jq+V9VUlZGa6zPEIp6zXqUlWUiINPCwKyAQFqXsKoMBg9aQ1VY//NExBsYge34AEjGmQQraqAiSolthwq1bkhMoCsgELjHqS1nCrBW4zSeCOHs5hSFBmLJjCjLsGHWzJW5WTEhSBPOuJ5xee/hTWtHZaoy1am7D+2kJ8IKCgUFBQX3wgps//NExAwRSAXkAAjGAeG8KBOIKCgo2FkFBLjf3//iDBSYaFIQUFBTf8bL/Hwgk3+goV/5e7H2Oiv/8n75/+Cg3/////034SrsUcZyN0BspkYwgWlZTIcWjywjIj///llZ//NExBkRSWmsABjGlEx0eWKKGEC0eAwwkcWIdHBBRQwgWjpYo5o0DgsYmn7KDbs0Z////3aDYRZNVRQkMFDAwjiBhQlgoYGjuMOrLLEcjI1lsv/mZGTWWRyMmVrUdDJl//NExCYSCT3kABjGcGDVHQxgZCQkBw0DQSFgcNAIJCwkNmRgsLbtlJmKs////4sqBSk1biREUKPi81WChQToZGTNZflmf+rWw/zVpZewyVrLLHMmWKwMFHIyZQwMGhkZ//NExDAQUZGIADDGlDKCBA4aNAyLB7txbiwvxYV66kxBTUUzLjEwMKqqqqqqqqqqqqqqqqqqqqqqqqqqqqqqqqqqqqqqqqqqqqqqqqqqqqqqqqqqqqqqqqqqTEFNRTMu//NExEEAAANIAAAAADEwMKqqqqqqqqqqqqqqqqqqqqqqqqqqqqqqqqqqqqqqqqqqqqqqqqqqqqqqqqqqqqqqqqqqqqqqqqqqqqqqqqqqqqqqqqqqqqqqqqqqqqqqqqqq//NExJQAAANIAAAAAKqqqqqqqqqqqqqqqqqqqqqqqqqqqqqqqqqqqqqqqqqqqqqqqqqqqqqqqqqqqqqqqqqqqqqqqqqqqqqqqqqqqqqqqqqqqqqqqqqqqqqqqqqqqqqq//NExKwAAANIAAAAAKqqqqqqqqqqqqqqqqqqqqqqqqqqqqqqqqqqqqqqqqqqqqqqqqqqqqqqqqqqqqqqqqqqqqqqqqqqqqqqqqqqqqqqqqqqqqqqqqqqqqqqqqqqqqqq\" type=\"audio/mpeg\" />\n",
              "                    Your browser does not support the audio element.\n",
              "                </audio>\n",
              "              "
            ]
          },
          "metadata": {
            "rate": 44100
          }
        },
        {
          "output_type": "stream",
          "name": "stdout",
          "text": [
            "\n",
            "Select the correct option by index:\n",
            "1. Eutopian\n",
            "2. toughed\n",
            "3. steeplelike\n",
            "4. Brotula\n",
            "Enter the index of the correct option: 2\n",
            "User input: 2\n",
            "Correct index: 2\n",
            "Correct!!\n",
            "\n",
            "Stored clusters: []\n",
            "Use these clusters to regulate the randomization in future iterations.\n"
          ]
        }
      ]
    },
    {
      "cell_type": "code",
      "source": [
        "import joblib\n",
        "joblib.dump(kmeans, '/content/drive/MyDrive/Colab Notebooks/kmeans_model.pkl')"
      ],
      "metadata": {
        "colab": {
          "base_uri": "https://localhost:8080/"
        },
        "id": "wOkAc1NeE56_",
        "outputId": "6a2f66a1-6bc5-455e-a567-c0b2e61ed7e2"
      },
      "execution_count": 38,
      "outputs": [
        {
          "output_type": "execute_result",
          "data": {
            "text/plain": [
              "['/content/drive/MyDrive/Colab Notebooks/kmeans_model.pkl']"
            ]
          },
          "metadata": {},
          "execution_count": 38
        }
      ]
    }
  ],
  "metadata": {
    "colab": {
      "provenance": [],
      "include_colab_link": true
    },
    "kernelspec": {
      "display_name": "Python 3",
      "name": "python3"
    },
    "language_info": {
      "name": "python"
    }
  },
  "nbformat": 4,
  "nbformat_minor": 0
}